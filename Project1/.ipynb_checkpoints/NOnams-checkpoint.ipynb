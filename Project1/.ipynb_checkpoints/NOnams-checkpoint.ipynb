{
 "cells": [
  {
   "cell_type": "markdown",
   "metadata": {},
   "source": [
    "# Cài đặt môi trường"
   ]
  },
  {
   "cell_type": "code",
   "execution_count": null,
   "metadata": {},
   "outputs": [
    {
     "name": "stdout",
     "output_type": "stream",
     "text": [
      "Collecting requests_html\n",
      "  Using cached https://files.pythonhosted.org/packages/24/bc/a4380f09bab3a776182578ce6b2771e57259d0d4dbce178205779abdc347/requests_html-0.10.0-py3-none-any.whl\n",
      "Collecting requests (from requests_html)\n",
      "  Using cached https://files.pythonhosted.org/packages/45/1e/0c169c6a5381e241ba7404532c16a21d86ab872c9bed8bdcd4c423954103/requests-2.24.0-py2.py3-none-any.whl\n",
      "Collecting fake-useragent (from requests_html)\n",
      "Collecting pyquery (from requests_html)\n",
      "  Using cached https://files.pythonhosted.org/packages/78/43/95d42e386c61cb639d1a0b94f0c0b9f0b7d6b981ad3c043a836c8b5bc68b/pyquery-1.4.1-py2.py3-none-any.whl\n",
      "Collecting bs4 (from requests_html)\n",
      "Collecting parse (from requests_html)\n",
      "Collecting pyppeteer>=0.0.14 (from requests_html)\n",
      "  Using cached https://files.pythonhosted.org/packages/5d/4b/3c2aabdd1b91fa52aa9de6cde33b488b0592b4d48efb0ad9efbf71c49f5b/pyppeteer-0.2.2-py3-none-any.whl\n",
      "Collecting w3lib (from requests_html)\n",
      "  Using cached https://files.pythonhosted.org/packages/a3/59/b6b14521090e7f42669cafdb84b0ab89301a42f1f1a82fcf5856661ea3a7/w3lib-1.22.0-py2.py3-none-any.whl\n",
      "Collecting idna<3,>=2.5 (from requests->requests_html)\n",
      "  Using cached https://files.pythonhosted.org/packages/a2/38/928ddce2273eaa564f6f50de919327bf3a00f091b5baba8dfa9460f3a8a8/idna-2.10-py2.py3-none-any.whl\n",
      "Collecting urllib3!=1.25.0,!=1.25.1,<1.26,>=1.21.1 (from requests->requests_html)\n",
      "  Using cached https://files.pythonhosted.org/packages/56/aa/4ef5aa67a9a62505db124a5cb5262332d1d4153462eb8fd89c9fa41e5d92/urllib3-1.25.11-py2.py3-none-any.whl\n",
      "Collecting certifi>=2017.4.17 (from requests->requests_html)\n",
      "  Using cached https://files.pythonhosted.org/packages/c1/6f/3d85f0850962279a7e4c622695d7b3171e95ac65308a57d3b29738b27149/certifi-2020.11.8-py2.py3-none-any.whl\n",
      "Collecting chardet<4,>=3.0.2 (from requests->requests_html)\n",
      "  Using cached https://files.pythonhosted.org/packages/bc/a9/01ffebfb562e4274b6487b4bb1ddec7ca55ec7510b22e4c51f14098443b8/chardet-3.0.4-py2.py3-none-any.whl\n",
      "Collecting cssselect>0.7.9 (from pyquery->requests_html)\n",
      "  Using cached https://files.pythonhosted.org/packages/3b/d4/3b5c17f00cce85b9a1e6f91096e1cc8e8ede2e1be8e96b87ce1ed09e92c5/cssselect-1.1.0-py2.py3-none-any.whl\n",
      "Collecting lxml>=2.1 (from pyquery->requests_html)\n",
      "  Using cached https://files.pythonhosted.org/packages/64/28/0b761b64ecbd63d272ed0e7a6ae6e4402fc37886b59181bfdf274424d693/lxml-4.6.1-cp36-cp36m-manylinux1_x86_64.whl\n",
      "Collecting beautifulsoup4 (from bs4->requests_html)\n",
      "  Using cached https://files.pythonhosted.org/packages/d1/41/e6495bd7d3781cee623ce23ea6ac73282a373088fcd0ddc809a047b18eae/beautifulsoup4-4.9.3-py3-none-any.whl\n",
      "Collecting pyee<8.0.0,>=7.0.1 (from pyppeteer>=0.0.14->requests_html)\n",
      "  Using cached https://files.pythonhosted.org/packages/64/f3/90db6276dbc6cb1defa558251acc73c8e436ca8e1e2b38ec75786278de7c/pyee-7.0.4-py2.py3-none-any.whl\n",
      "Collecting appdirs<2.0.0,>=1.4.3 (from pyppeteer>=0.0.14->requests_html)\n",
      "  Using cached https://files.pythonhosted.org/packages/3b/00/2344469e2084fb287c2e0b57b72910309874c3245463acd6cf5e3db69324/appdirs-1.4.4-py2.py3-none-any.whl\n",
      "Collecting tqdm<5.0.0,>=4.42.1 (from pyppeteer>=0.0.14->requests_html)\n",
      "  Using cached https://files.pythonhosted.org/packages/93/3a/96b3dc293aa72443cf9627444c3c221a7ba34bb622e4d8bf1b5d4f2d9d08/tqdm-4.51.0-py2.py3-none-any.whl\n",
      "Collecting websockets<9.0,>=8.1 (from pyppeteer>=0.0.14->requests_html)\n",
      "  Using cached https://files.pythonhosted.org/packages/cf/cb/c35513c4a0ff24ca13e33f7336ba8c1a864449fad9fea8e37abdad11c38d/websockets-8.1-cp36-cp36m-manylinux1_x86_64.whl\n",
      "Collecting six>=1.4.1 (from w3lib->requests_html)\n",
      "  Using cached https://files.pythonhosted.org/packages/ee/ff/48bde5c0f013094d729fe4b0316ba2a24774b3ff1c52d924a8a4cb04078a/six-1.15.0-py2.py3-none-any.whl\n",
      "Collecting soupsieve>1.2; python_version >= \"3.0\" (from beautifulsoup4->bs4->requests_html)\n",
      "  Using cached https://files.pythonhosted.org/packages/6f/8f/457f4a5390eeae1cc3aeab89deb7724c965be841ffca6cfca9197482e470/soupsieve-2.0.1-py3-none-any.whl\n",
      "Installing collected packages: idna, urllib3, certifi, chardet, requests, fake-useragent, cssselect, lxml, pyquery, soupsieve, beautifulsoup4, bs4, parse, pyee, appdirs, tqdm, websockets, pyppeteer, six, w3lib, requests-html\n",
      "Successfully installed appdirs-1.4.4 beautifulsoup4-4.9.3 bs4-0.0.1 certifi-2020.11.8 chardet-3.0.4 cssselect-1.1.0 fake-useragent-0.1.11 idna-2.10 lxml-4.6.1 parse-1.18.0 pyee-7.0.4 pyppeteer-0.2.2 pyquery-1.4.1 requests-2.24.0 requests-html-0.10.0 six-1.15.0 soupsieve-2.0.1 tqdm-4.51.0 urllib3-1.25.11 w3lib-1.22.0 websockets-8.1\n",
      "Collecting selenium\n",
      "  Using cached https://files.pythonhosted.org/packages/80/d6/4294f0b4bce4de0abf13e17190289f9d0613b0a44e5dd6a7f5ca98459853/selenium-3.141.0-py2.py3-none-any.whl\n",
      "Collecting urllib3 (from selenium)\n",
      "  Using cached https://files.pythonhosted.org/packages/56/aa/4ef5aa67a9a62505db124a5cb5262332d1d4153462eb8fd89c9fa41e5d92/urllib3-1.25.11-py2.py3-none-any.whl\n",
      "Installing collected packages: urllib3, selenium\n",
      "Successfully installed selenium-3.141.0 urllib3-1.25.11\n",
      "Collecting webdriver_manager\n",
      "  Using cached https://files.pythonhosted.org/packages/2a/88/bc1f85fd733cf6bcae3c6e5c86ea124e91c49eb694d47dfef7f37f4394eb/webdriver_manager-3.2.2-py2.py3-none-any.whl\n",
      "Collecting requests (from webdriver_manager)\n",
      "  Using cached https://files.pythonhosted.org/packages/45/1e/0c169c6a5381e241ba7404532c16a21d86ab872c9bed8bdcd4c423954103/requests-2.24.0-py2.py3-none-any.whl\n",
      "Collecting crayons (from webdriver_manager)\n",
      "  Using cached https://files.pythonhosted.org/packages/5b/0d/e3fad4ca1de8e70e06444e7d777a5984261e1db98758b5be3e8296c03fe9/crayons-0.4.0-py2.py3-none-any.whl\n",
      "Collecting configparser (from webdriver_manager)\n",
      "  Using cached https://files.pythonhosted.org/packages/08/b2/ef713e0e67f6e7ec7d59aea3ee78d05b39c15930057e724cc6d362a8c3bb/configparser-5.0.1-py3-none-any.whl\n",
      "Collecting chardet<4,>=3.0.2 (from requests->webdriver_manager)\n",
      "  Using cached https://files.pythonhosted.org/packages/bc/a9/01ffebfb562e4274b6487b4bb1ddec7ca55ec7510b22e4c51f14098443b8/chardet-3.0.4-py2.py3-none-any.whl\n",
      "Collecting urllib3!=1.25.0,!=1.25.1,<1.26,>=1.21.1 (from requests->webdriver_manager)\n",
      "  Using cached https://files.pythonhosted.org/packages/56/aa/4ef5aa67a9a62505db124a5cb5262332d1d4153462eb8fd89c9fa41e5d92/urllib3-1.25.11-py2.py3-none-any.whl\n",
      "Collecting idna<3,>=2.5 (from requests->webdriver_manager)\n",
      "  Using cached https://files.pythonhosted.org/packages/a2/38/928ddce2273eaa564f6f50de919327bf3a00f091b5baba8dfa9460f3a8a8/idna-2.10-py2.py3-none-any.whl\n",
      "Collecting certifi>=2017.4.17 (from requests->webdriver_manager)\n",
      "  Using cached https://files.pythonhosted.org/packages/c1/6f/3d85f0850962279a7e4c622695d7b3171e95ac65308a57d3b29738b27149/certifi-2020.11.8-py2.py3-none-any.whl\n",
      "Collecting colorama (from crayons->webdriver_manager)\n",
      "  Using cached https://files.pythonhosted.org/packages/44/98/5b86278fbbf250d239ae0ecb724f8572af1c91f4a11edf4d36a206189440/colorama-0.4.4-py2.py3-none-any.whl\n",
      "Installing collected packages: chardet, urllib3, idna, certifi, requests, colorama, crayons, configparser, webdriver-manager\n",
      "Successfully installed certifi-2020.11.8 chardet-3.0.4 colorama-0.4.4 configparser-5.0.1 crayons-0.4.0 idna-2.10 requests-2.24.0 urllib3-1.25.11 webdriver-manager-3.2.2\n",
      "Collecting pandas\n",
      "  Using cached https://files.pythonhosted.org/packages/4d/51/bafcff417cd857bc6684336320863b5e5af280530213ef8f534b6042cfe6/pandas-1.1.4-cp36-cp36m-manylinux1_x86_64.whl\n",
      "Collecting python-dateutil>=2.7.3 (from pandas)\n",
      "  Using cached https://files.pythonhosted.org/packages/d4/70/d60450c3dd48ef87586924207ae8907090de0b306af2bce5d134d78615cb/python_dateutil-2.8.1-py2.py3-none-any.whl\n",
      "Collecting pytz>=2017.2 (from pandas)\n",
      "  Using cached https://files.pythonhosted.org/packages/12/f8/ff09af6ff61a3efaad5f61ba5facdf17e7722c4393f7d8a66674d2dbd29f/pytz-2020.4-py2.py3-none-any.whl\n",
      "Collecting numpy>=1.15.4 (from pandas)\n",
      "  Using cached https://files.pythonhosted.org/packages/a6/fc/36e52d0ae2aa502b211f1bcd2fdeec72d343d58224eabcdddc1bcb052db1/numpy-1.19.4-cp36-cp36m-manylinux1_x86_64.whl\n",
      "Collecting six>=1.5 (from python-dateutil>=2.7.3->pandas)\n",
      "  Using cached https://files.pythonhosted.org/packages/ee/ff/48bde5c0f013094d729fe4b0316ba2a24774b3ff1c52d924a8a4cb04078a/six-1.15.0-py2.py3-none-any.whl\n",
      "Installing collected packages: six, python-dateutil, pytz, numpy, pandas\n"
     ]
    },
    {
     "name": "stdout",
     "output_type": "stream",
     "text": [
      "Successfully installed numpy-1.19.4 pandas-1.1.4 python-dateutil-2.8.1 pytz-2020.4 six-1.15.0\r\n"
     ]
    }
   ],
   "source": [
    "#Chạy các câu command lines cần thiết cho việc cài đặt các thư viện\n",
    "!pip install requests_html \n",
    "!pip install selenium\n",
    "!pip install webdriver_manager\n",
    "!pip install pandas\n",
    "!pip install seaborn\n",
    "!pip install tqdm"
   ]
  },
  {
   "cell_type": "code",
   "execution_count": 2,
   "metadata": {},
   "outputs": [],
   "source": [
    "#Thêm các thư viện và modules cần thiết\n",
    "from requests_html import HTMLSession\n",
    "import requests \n",
    "import json\n",
    "import time\n",
    "import numpy as np \n",
    "import pandas as pd\n",
    "import datetime as dt\n",
    "import re\n",
    "import selenium\n",
    "from requests_html import HTML\n",
    "from selenium import webdriver\n",
    "from selenium.webdriver.common.keys import Keys\n",
    "from webdriver_manager.chrome import ChromeDriverManager\n",
    "from selenium.common.exceptions import ElementClickInterceptedException \n",
    "import matplotlib.pyplot as plt\n",
    "import seaborn as sns\n",
    "from tqdm import tqdm"
   ]
  },
  {
   "cell_type": "code",
   "execution_count": 77,
   "metadata": {},
   "outputs": [],
   "source": [
    "#Định nghĩa driver của webdriver\n",
    "browser = webdriver.Chrome(executable_path='./chromedriver_ubuntu') \n",
    "browser.maximize_window()"
   ]
  },
  {
   "cell_type": "markdown",
   "metadata": {},
   "source": [
    "# Thu thập dữ liệu"
   ]
  },
  {
   "cell_type": "code",
   "execution_count": 78,
   "metadata": {},
   "outputs": [],
   "source": [
    "#Khai báo đường dẫn đến trang web gốc\n",
    "root_url = \"https://soundcloud.com/discover\"\n",
    "browser.get(root_url)\n",
    "# Tắt cửa sổ quảng cáo nếu có bằng cách ấn phím Esc \n",
    "browser.find_element_by_tag_name('html').send_keys(Keys.ESCAPE)\n",
    "search_textbox = browser.find_element_by_css_selector('.headerSearch__input')\n",
    "search_textbox.send_keys('edm')\n",
    "search_textbox.submit()\n",
    "browser.find_element_by_tag_name('html').send_keys(Keys.ESCAPE)"
   ]
  },
  {
   "cell_type": "markdown",
   "metadata": {},
   "source": [
    "Có thể thấy dữ liệu về chủ đề nhạc EDM rất đa dạng, nhưng em nhận thấy nhưng comments của User trong các tracks chủ yếu là spam comments. Vì vậy em chỉ lấy những Users nào có upload những Track hoặc Playlist lên Soundcloud"
   ]
  },
  {
   "cell_type": "code",
   "execution_count": 6,
   "metadata": {},
   "outputs": [
    {
     "name": "stderr",
     "output_type": "stream",
     "text": [
      "100%|██████████| 560/560 [05:03<00:00,  1.84it/s]\n"
     ]
    },
    {
     "name": "stdout",
     "output_type": "stream",
     "text": [
      "Thu thập dữ liệu play plist hoàn thành.\n",
      "Số links playlist thu thập được là: 870\n"
     ]
    }
   ],
   "source": [
    "#Thu thập danh sách các playlist liên quan đến edm\n",
    "browser.get('https://soundcloud.com/search/sets?q=edm')\n",
    "\n",
    "SCROLL_PAUSE_TIME = 0.2\n",
    "MAX_SCROLLING = 560\n",
    "html_element = browser.find_element_by_tag_name('html')\n",
    "for i in tqdm(range(MAX_SCROLLING)):\n",
    "    html_element.send_keys(Keys.PAGE_DOWN)\n",
    "    time.sleep(SCROLL_PAUSE_TIME)\n",
    "\n",
    "elements = browser.find_elements_by_css_selector('a.sound__coverArt')\n",
    "\n",
    "playlist_links = []\n",
    "for element in elements:\n",
    "    playlist_links.append(element.get_attribute('href'))\n",
    "                          \n",
    "print('Thu thập dữ liệu play plist hoàn thành.')\n",
    "print(f'Số links playlist thu thập được là: {len(playlist_links)}')"
   ]
  },
  {
   "cell_type": "code",
   "execution_count": 41,
   "metadata": {},
   "outputs": [
    {
     "name": "stdout",
     "output_type": "stream",
     "text": [
      "870\n"
     ]
    }
   ],
   "source": [
    "print(len(playlist_links))"
   ]
  },
  {
   "cell_type": "code",
   "execution_count": 80,
   "metadata": {},
   "outputs": [
    {
     "name": "stdout",
     "output_type": "stream",
     "text": [
      "{'title': ['Edm'], 'name_of_user_owner': ['Courtney Mccann'], 'link_of_user_owner': ['https://soundcloud.com/courtney-mccann'], 'uploaded_time': ['24 June 2016'], 'number_of_tracks': ['469'], 'duration_of_all_tracks': ['1:50:02'], 'number_of_likes': ['2,012']}\n"
     ]
    }
   ],
   "source": [
    "#Thu thập thông tin của các playlist\n",
    "class BaseClass:\n",
    "    def get_text_from_css_selector(self,selector):\n",
    "        element = browser.find_element_by_css_selector(selector)\n",
    "        return element.text if element else ''\n",
    "    def get_attribute_from_css_selector(self, selector, attr):\n",
    "        element = browser.find_element_by_css_selector(selector)\n",
    "        return element.get_attribute(attr) if element else ''\n",
    "    \n",
    "class Playlist(BaseClass):\n",
    "    def __init__(self):\n",
    "        self.title = []\n",
    "        self.name_of_user_owner = []\n",
    "        self.link_of_user_owner = []\n",
    "        self.uploaded_time = []\n",
    "        self.number_of_tracks = []\n",
    "        self.duration_of_all_tracks = []\n",
    "        self.number_of_likes = []\n",
    "\n",
    "    def add_playlist(self, url):\n",
    "        browser.get(url)\n",
    "        #We need to sleep until page has loaded\n",
    "        time.sleep(1.5)\n",
    "        title = self.get_text_from_css_selector('span.soundTitle__title span')\n",
    "        #title = self.get_attribute_from_css_selector('span.soundTitle__title span', 'text')\n",
    "        user_owner = self.get_text_from_css_selector('a.soundTitle__username')\n",
    "        user_owner_link = self.get_attribute_from_css_selector('a.soundTitle__username','href')\n",
    "        uploaded_time\\\n",
    "        = self.get_attribute_from_css_selector('.fullHero__uploadTime time','title')\n",
    "\n",
    "        number_of_tracks\\\n",
    "        = self.get_attribute_from_css_selector('.genericTrackCount__title','innerHTML')\n",
    "\n",
    "        duration_of_all_tracks\\\n",
    "        = self.get_attribute_from_css_selector('div.genericTrackCount__duration','innerHTML')\n",
    "\n",
    "        number_of_likes\\\n",
    "        = self.get_attribute_from_css_selector('ul.soundStats > li:first-child','title')\n",
    "        if number_of_likes:\n",
    "            number_of_likes = number_of_likes.rsplit(' ')[0]\n",
    "        \n",
    "        self.title.append(title)\n",
    "        self.name_of_user_owner.append(user_owner)\n",
    "        self.link_of_user_owner.append(user_owner_link)\n",
    "        self.uploaded_time.append(uploaded_time)\n",
    "        self.number_of_tracks.append(number_of_tracks)\n",
    "        self.duration_of_all_tracks.append(duration_of_all_tracks)\n",
    "        self.number_of_likes.append(number_of_likes)\n",
    "    \n",
    "    def get_dict(self):\n",
    "        return {'title': self.title, 'name_of_user_owner': self.name_of_user_owner,\\\n",
    "        'link_of_user_owner': self.link_of_user_owner, 'uploaded_time': self.uploaded_time,\\\n",
    "        'number_of_tracks': self.number_of_tracks, 'duration_of_all_tracks':\\\n",
    "        self.duration_of_all_tracks, 'number_of_likes':self.number_of_likes}\n",
    "\n",
    "playlist = Playlist()\n",
    "playlist.add_playlist('https://soundcloud.com/courtney-mccann/sets/edm')\n",
    "print(playlist.get_dict())"
   ]
  },
  {
   "cell_type": "code",
   "execution_count": null,
   "metadata": {},
   "outputs": [],
   "source": [
    "#Thu thập thông tin của các playlist\n",
    "#for playlist_link in tqdm(playlist_links):\n",
    "class User(BaseClass):\n",
    "    def __init__(self):\n",
    "        self.name = []\n",
    "        self.support_name = []\n",
    "        self.location = []\n",
    "        self.number_of_followers = []\n",
    "        self.number_of_following = []\n",
    "        self.number_of_tracks = []\n",
    "        self.number_of_likes = []\n",
    "        self.number_of_commets = []\n",
    "        self.number_of_reports = []\n",
    "        self.number_of_playlists = []\n",
    "        self.number_of_albums = []\n",
    "        self.link_of_user_owner = []\n",
    "     def add_user(self, url):\n",
    "        browser.get(url)\n",
    "        #We need to sleep until page has loaded\n",
    "        time.sleep(1.5)\n",
    "        title = self.get_text_from_css_selector('span.soundTitle__title span')\n",
    "        #title = self.get_attribute_from_css_selector('span.soundTitle__title span', 'text')\n",
    "        user_owner = self.get_text_from_css_selector('a.soundTitle__username')\n",
    "        user_owner_link = self.get_attribute_from_css_selector('a.soundTitle__username','href')\n",
    "        uploaded_time\\\n",
    "        = self.get_attribute_from_css_selector('.fullHero__uploadTime time','title')\n",
    "\n",
    "        number_of_tracks\\\n",
    "        = self.get_attribute_from_css_selector('.genericTrackCount__title','innerHTML')\n"
   ]
  }
 ],
 "metadata": {
  "kernelspec": {
   "display_name": "Python 3",
   "language": "python",
   "name": "python3"
  },
  "language_info": {
   "codemirror_mode": {
    "name": "ipython",
    "version": 3
   },
   "file_extension": ".py",
   "mimetype": "text/x-python",
   "name": "python",
   "nbconvert_exporter": "python",
   "pygments_lexer": "ipython3",
   "version": "3.6.9"
  }
 },
 "nbformat": 4,
 "nbformat_minor": 4
}
