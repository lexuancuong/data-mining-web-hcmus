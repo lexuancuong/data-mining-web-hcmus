{
 "cells": [
  {
   "cell_type": "markdown",
   "metadata": {},
   "source": [
    "# Cài đặt môi trường"
   ]
  },
  {
   "cell_type": "code",
   "execution_count": 1,
   "metadata": {},
   "outputs": [
    {
     "name": "stdout",
     "output_type": "stream",
     "text": [
      "Collecting requests_html\n",
      "  Using cached https://files.pythonhosted.org/packages/24/bc/a4380f09bab3a776182578ce6b2771e57259d0d4dbce178205779abdc347/requests_html-0.10.0-py3-none-any.whl\n",
      "Collecting pyquery (from requests_html)\n",
      "  Using cached https://files.pythonhosted.org/packages/78/43/95d42e386c61cb639d1a0b94f0c0b9f0b7d6b981ad3c043a836c8b5bc68b/pyquery-1.4.1-py2.py3-none-any.whl\n",
      "Collecting parse (from requests_html)\n",
      "Collecting bs4 (from requests_html)\n",
      "Collecting w3lib (from requests_html)\n",
      "  Using cached https://files.pythonhosted.org/packages/a3/59/b6b14521090e7f42669cafdb84b0ab89301a42f1f1a82fcf5856661ea3a7/w3lib-1.22.0-py2.py3-none-any.whl\n",
      "Collecting pyppeteer>=0.0.14 (from requests_html)\n",
      "  Using cached https://files.pythonhosted.org/packages/5d/4b/3c2aabdd1b91fa52aa9de6cde33b488b0592b4d48efb0ad9efbf71c49f5b/pyppeteer-0.2.2-py3-none-any.whl\n",
      "Collecting requests (from requests_html)\n",
      "  Using cached https://files.pythonhosted.org/packages/45/1e/0c169c6a5381e241ba7404532c16a21d86ab872c9bed8bdcd4c423954103/requests-2.24.0-py2.py3-none-any.whl\n",
      "Collecting fake-useragent (from requests_html)\n",
      "Collecting cssselect>0.7.9 (from pyquery->requests_html)\n",
      "  Using cached https://files.pythonhosted.org/packages/3b/d4/3b5c17f00cce85b9a1e6f91096e1cc8e8ede2e1be8e96b87ce1ed09e92c5/cssselect-1.1.0-py2.py3-none-any.whl\n",
      "Collecting lxml>=2.1 (from pyquery->requests_html)\n",
      "  Using cached https://files.pythonhosted.org/packages/64/28/0b761b64ecbd63d272ed0e7a6ae6e4402fc37886b59181bfdf274424d693/lxml-4.6.1-cp36-cp36m-manylinux1_x86_64.whl\n",
      "Collecting beautifulsoup4 (from bs4->requests_html)\n",
      "  Using cached https://files.pythonhosted.org/packages/d1/41/e6495bd7d3781cee623ce23ea6ac73282a373088fcd0ddc809a047b18eae/beautifulsoup4-4.9.3-py3-none-any.whl\n",
      "Collecting six>=1.4.1 (from w3lib->requests_html)\n",
      "  Using cached https://files.pythonhosted.org/packages/ee/ff/48bde5c0f013094d729fe4b0316ba2a24774b3ff1c52d924a8a4cb04078a/six-1.15.0-py2.py3-none-any.whl\n",
      "Collecting websockets<9.0,>=8.1 (from pyppeteer>=0.0.14->requests_html)\n",
      "  Using cached https://files.pythonhosted.org/packages/cf/cb/c35513c4a0ff24ca13e33f7336ba8c1a864449fad9fea8e37abdad11c38d/websockets-8.1-cp36-cp36m-manylinux1_x86_64.whl\n",
      "Collecting appdirs<2.0.0,>=1.4.3 (from pyppeteer>=0.0.14->requests_html)\n",
      "  Using cached https://files.pythonhosted.org/packages/3b/00/2344469e2084fb287c2e0b57b72910309874c3245463acd6cf5e3db69324/appdirs-1.4.4-py2.py3-none-any.whl\n",
      "Collecting pyee<8.0.0,>=7.0.1 (from pyppeteer>=0.0.14->requests_html)\n",
      "  Using cached https://files.pythonhosted.org/packages/64/f3/90db6276dbc6cb1defa558251acc73c8e436ca8e1e2b38ec75786278de7c/pyee-7.0.4-py2.py3-none-any.whl\n",
      "Collecting tqdm<5.0.0,>=4.42.1 (from pyppeteer>=0.0.14->requests_html)\n",
      "  Using cached https://files.pythonhosted.org/packages/93/3a/96b3dc293aa72443cf9627444c3c221a7ba34bb622e4d8bf1b5d4f2d9d08/tqdm-4.51.0-py2.py3-none-any.whl\n",
      "Collecting urllib3<2.0.0,>=1.25.8 (from pyppeteer>=0.0.14->requests_html)\n",
      "  Using cached https://files.pythonhosted.org/packages/56/aa/4ef5aa67a9a62505db124a5cb5262332d1d4153462eb8fd89c9fa41e5d92/urllib3-1.25.11-py2.py3-none-any.whl\n",
      "Collecting certifi>=2017.4.17 (from requests->requests_html)\n",
      "  Using cached https://files.pythonhosted.org/packages/c1/6f/3d85f0850962279a7e4c622695d7b3171e95ac65308a57d3b29738b27149/certifi-2020.11.8-py2.py3-none-any.whl\n",
      "Collecting chardet<4,>=3.0.2 (from requests->requests_html)\n",
      "  Using cached https://files.pythonhosted.org/packages/bc/a9/01ffebfb562e4274b6487b4bb1ddec7ca55ec7510b22e4c51f14098443b8/chardet-3.0.4-py2.py3-none-any.whl\n",
      "Collecting idna<3,>=2.5 (from requests->requests_html)\n",
      "  Using cached https://files.pythonhosted.org/packages/a2/38/928ddce2273eaa564f6f50de919327bf3a00f091b5baba8dfa9460f3a8a8/idna-2.10-py2.py3-none-any.whl\n",
      "Collecting soupsieve>1.2; python_version >= \"3.0\" (from beautifulsoup4->bs4->requests_html)\n",
      "  Using cached https://files.pythonhosted.org/packages/6f/8f/457f4a5390eeae1cc3aeab89deb7724c965be841ffca6cfca9197482e470/soupsieve-2.0.1-py3-none-any.whl\n",
      "Installing collected packages: cssselect, lxml, pyquery, parse, soupsieve, beautifulsoup4, bs4, six, w3lib, websockets, appdirs, pyee, tqdm, urllib3, pyppeteer, certifi, chardet, idna, requests, fake-useragent, requests-html\n",
      "Successfully installed appdirs-1.4.4 beautifulsoup4-4.9.3 bs4-0.0.1 certifi-2020.11.8 chardet-3.0.4 cssselect-1.1.0 fake-useragent-0.1.11 idna-2.10 lxml-4.6.1 parse-1.18.0 pyee-7.0.4 pyppeteer-0.2.2 pyquery-1.4.1 requests-2.24.0 requests-html-0.10.0 six-1.15.0 soupsieve-2.0.1 tqdm-4.51.0 urllib3-1.25.11 w3lib-1.22.0 websockets-8.1\n",
      "Collecting selenium\n",
      "  Using cached https://files.pythonhosted.org/packages/80/d6/4294f0b4bce4de0abf13e17190289f9d0613b0a44e5dd6a7f5ca98459853/selenium-3.141.0-py2.py3-none-any.whl\n",
      "Collecting urllib3 (from selenium)\n",
      "  Using cached https://files.pythonhosted.org/packages/56/aa/4ef5aa67a9a62505db124a5cb5262332d1d4153462eb8fd89c9fa41e5d92/urllib3-1.25.11-py2.py3-none-any.whl\n",
      "Installing collected packages: urllib3, selenium\n",
      "Successfully installed selenium-3.141.0 urllib3-1.25.11\n",
      "Collecting webdriver_manager\n",
      "  Using cached https://files.pythonhosted.org/packages/2a/88/bc1f85fd733cf6bcae3c6e5c86ea124e91c49eb694d47dfef7f37f4394eb/webdriver_manager-3.2.2-py2.py3-none-any.whl\n",
      "Collecting requests (from webdriver_manager)\n",
      "  Using cached https://files.pythonhosted.org/packages/45/1e/0c169c6a5381e241ba7404532c16a21d86ab872c9bed8bdcd4c423954103/requests-2.24.0-py2.py3-none-any.whl\n",
      "Collecting crayons (from webdriver_manager)\n",
      "  Using cached https://files.pythonhosted.org/packages/5b/0d/e3fad4ca1de8e70e06444e7d777a5984261e1db98758b5be3e8296c03fe9/crayons-0.4.0-py2.py3-none-any.whl\n",
      "Collecting configparser (from webdriver_manager)\n",
      "  Using cached https://files.pythonhosted.org/packages/08/b2/ef713e0e67f6e7ec7d59aea3ee78d05b39c15930057e724cc6d362a8c3bb/configparser-5.0.1-py3-none-any.whl\n",
      "Collecting urllib3!=1.25.0,!=1.25.1,<1.26,>=1.21.1 (from requests->webdriver_manager)\n",
      "  Using cached https://files.pythonhosted.org/packages/56/aa/4ef5aa67a9a62505db124a5cb5262332d1d4153462eb8fd89c9fa41e5d92/urllib3-1.25.11-py2.py3-none-any.whl\n",
      "Collecting idna<3,>=2.5 (from requests->webdriver_manager)\n",
      "  Using cached https://files.pythonhosted.org/packages/a2/38/928ddce2273eaa564f6f50de919327bf3a00f091b5baba8dfa9460f3a8a8/idna-2.10-py2.py3-none-any.whl\n",
      "Collecting chardet<4,>=3.0.2 (from requests->webdriver_manager)\n",
      "  Using cached https://files.pythonhosted.org/packages/bc/a9/01ffebfb562e4274b6487b4bb1ddec7ca55ec7510b22e4c51f14098443b8/chardet-3.0.4-py2.py3-none-any.whl\n",
      "Collecting certifi>=2017.4.17 (from requests->webdriver_manager)\n",
      "  Using cached https://files.pythonhosted.org/packages/c1/6f/3d85f0850962279a7e4c622695d7b3171e95ac65308a57d3b29738b27149/certifi-2020.11.8-py2.py3-none-any.whl\n",
      "Collecting colorama (from crayons->webdriver_manager)\n",
      "  Using cached https://files.pythonhosted.org/packages/44/98/5b86278fbbf250d239ae0ecb724f8572af1c91f4a11edf4d36a206189440/colorama-0.4.4-py2.py3-none-any.whl\n",
      "Installing collected packages: urllib3, idna, chardet, certifi, requests, colorama, crayons, configparser, webdriver-manager\n",
      "Successfully installed certifi-2020.11.8 chardet-3.0.4 colorama-0.4.4 configparser-5.0.1 crayons-0.4.0 idna-2.10 requests-2.24.0 urllib3-1.25.11 webdriver-manager-3.2.2\n",
      "Collecting pandas\n",
      "  Using cached https://files.pythonhosted.org/packages/4d/51/bafcff417cd857bc6684336320863b5e5af280530213ef8f534b6042cfe6/pandas-1.1.4-cp36-cp36m-manylinux1_x86_64.whl\n",
      "Collecting numpy>=1.15.4 (from pandas)\n",
      "  Using cached https://files.pythonhosted.org/packages/a6/fc/36e52d0ae2aa502b211f1bcd2fdeec72d343d58224eabcdddc1bcb052db1/numpy-1.19.4-cp36-cp36m-manylinux1_x86_64.whl\n",
      "Collecting pytz>=2017.2 (from pandas)\n",
      "  Using cached https://files.pythonhosted.org/packages/12/f8/ff09af6ff61a3efaad5f61ba5facdf17e7722c4393f7d8a66674d2dbd29f/pytz-2020.4-py2.py3-none-any.whl\n",
      "Collecting python-dateutil>=2.7.3 (from pandas)\n",
      "  Using cached https://files.pythonhosted.org/packages/d4/70/d60450c3dd48ef87586924207ae8907090de0b306af2bce5d134d78615cb/python_dateutil-2.8.1-py2.py3-none-any.whl\n",
      "Collecting six>=1.5 (from python-dateutil>=2.7.3->pandas)\n",
      "  Using cached https://files.pythonhosted.org/packages/ee/ff/48bde5c0f013094d729fe4b0316ba2a24774b3ff1c52d924a8a4cb04078a/six-1.15.0-py2.py3-none-any.whl\n",
      "Installing collected packages: numpy, pytz, six, python-dateutil, pandas\n"
     ]
    },
    {
     "name": "stdout",
     "output_type": "stream",
     "text": [
      "Successfully installed numpy-1.19.4 pandas-1.1.4 python-dateutil-2.8.1 pytz-2020.4 six-1.15.0\n",
      "Collecting seaborn\n",
      "  Using cached https://files.pythonhosted.org/packages/bc/45/5118a05b0d61173e6eb12bc5804f0fbb6f196adb0a20e0b16efc2b8e98be/seaborn-0.11.0-py3-none-any.whl\n",
      "Collecting scipy>=1.0 (from seaborn)\n",
      "  Using cached https://files.pythonhosted.org/packages/c8/89/63171228d5ced148f5ced50305c89e8576ffc695a90b58fe5bb602b910c2/scipy-1.5.4-cp36-cp36m-manylinux1_x86_64.whl\n",
      "Collecting pandas>=0.23 (from seaborn)\n",
      "  Using cached https://files.pythonhosted.org/packages/4d/51/bafcff417cd857bc6684336320863b5e5af280530213ef8f534b6042cfe6/pandas-1.1.4-cp36-cp36m-manylinux1_x86_64.whl\n",
      "Collecting matplotlib>=2.2 (from seaborn)\n",
      "  Using cached https://files.pythonhosted.org/packages/cd/d6/8c4dfb23151d5a494c66ebbfdb5c8c433b44ec07fae52da5939fcda0943f/matplotlib-3.3.2-cp36-cp36m-manylinux1_x86_64.whl\n",
      "Collecting numpy>=1.15 (from seaborn)\n",
      "  Using cached https://files.pythonhosted.org/packages/a6/fc/36e52d0ae2aa502b211f1bcd2fdeec72d343d58224eabcdddc1bcb052db1/numpy-1.19.4-cp36-cp36m-manylinux1_x86_64.whl\n",
      "Collecting python-dateutil>=2.7.3 (from pandas>=0.23->seaborn)\n",
      "  Using cached https://files.pythonhosted.org/packages/d4/70/d60450c3dd48ef87586924207ae8907090de0b306af2bce5d134d78615cb/python_dateutil-2.8.1-py2.py3-none-any.whl\n",
      "Collecting pytz>=2017.2 (from pandas>=0.23->seaborn)\n",
      "  Using cached https://files.pythonhosted.org/packages/12/f8/ff09af6ff61a3efaad5f61ba5facdf17e7722c4393f7d8a66674d2dbd29f/pytz-2020.4-py2.py3-none-any.whl\n",
      "Collecting cycler>=0.10 (from matplotlib>=2.2->seaborn)\n",
      "  Using cached https://files.pythonhosted.org/packages/f7/d2/e07d3ebb2bd7af696440ce7e754c59dd546ffe1bbe732c8ab68b9c834e61/cycler-0.10.0-py2.py3-none-any.whl\n",
      "Collecting pyparsing!=2.0.4,!=2.1.2,!=2.1.6,>=2.0.3 (from matplotlib>=2.2->seaborn)\n",
      "  Using cached https://files.pythonhosted.org/packages/8a/bb/488841f56197b13700afd5658fc279a2025a39e22449b7cf29864669b15d/pyparsing-2.4.7-py2.py3-none-any.whl\n",
      "Collecting pillow>=6.2.0 (from matplotlib>=2.2->seaborn)\n",
      "  Using cached https://files.pythonhosted.org/packages/5f/19/d4c25111d36163698396f93c363114cf1cddbacb24744f6612f25b6aa3d0/Pillow-8.0.1-cp36-cp36m-manylinux1_x86_64.whl\n",
      "Collecting certifi>=2020.06.20 (from matplotlib>=2.2->seaborn)\n",
      "  Using cached https://files.pythonhosted.org/packages/c1/6f/3d85f0850962279a7e4c622695d7b3171e95ac65308a57d3b29738b27149/certifi-2020.11.8-py2.py3-none-any.whl\n",
      "Collecting kiwisolver>=1.0.1 (from matplotlib>=2.2->seaborn)\n",
      "  Using cached https://files.pythonhosted.org/packages/a7/1b/cbd8ae738719b5f41592a12057ef5442e2ed5f5cb5451f8fc7e9f8875a1a/kiwisolver-1.3.1-cp36-cp36m-manylinux1_x86_64.whl\n",
      "Collecting six>=1.5 (from python-dateutil>=2.7.3->pandas>=0.23->seaborn)\n",
      "  Using cached https://files.pythonhosted.org/packages/ee/ff/48bde5c0f013094d729fe4b0316ba2a24774b3ff1c52d924a8a4cb04078a/six-1.15.0-py2.py3-none-any.whl\n",
      "Installing collected packages: numpy, scipy, six, python-dateutil, pytz, pandas, cycler, pyparsing, pillow, certifi, kiwisolver, matplotlib, seaborn\n",
      "Successfully installed certifi-2020.11.8 cycler-0.10.0 kiwisolver-1.3.1 matplotlib-3.3.2 numpy-1.19.4 pandas-1.1.4 pillow-8.0.1 pyparsing-2.4.7 python-dateutil-2.8.1 pytz-2020.4 scipy-1.5.4 seaborn-0.11.0 six-1.15.0\n",
      "Collecting tqdm\n",
      "  Using cached https://files.pythonhosted.org/packages/93/3a/96b3dc293aa72443cf9627444c3c221a7ba34bb622e4d8bf1b5d4f2d9d08/tqdm-4.51.0-py2.py3-none-any.whl\n",
      "Installing collected packages: tqdm\n",
      "Successfully installed tqdm-4.51.0\n"
     ]
    }
   ],
   "source": [
    "#Chạy các câu command lines cần thiết cho việc cài đặt các thư viện\n",
    "!pip install requests_html \n",
    "!pip install selenium\n",
    "!pip install webdriver_manager\n",
    "!pip install pandas\n",
    "!pip install seaborn\n",
    "!pip install tqdm"
   ]
  },
  {
   "cell_type": "code",
   "execution_count": 2,
   "metadata": {},
   "outputs": [],
   "source": [
    "#Thêm các thư viện và modules cần thiết\n",
    "from requests_html import HTMLSession\n",
    "import requests \n",
    "import json\n",
    "import time\n",
    "import numpy as np \n",
    "import pandas as pd\n",
    "import datetime as dt\n",
    "import re\n",
    "import selenium\n",
    "from requests_html import HTML\n",
    "from selenium import webdriver\n",
    "from selenium.webdriver.common.keys import Keys\n",
    "from webdriver_manager.chrome import ChromeDriverManager\n",
    "from selenium.common.exceptions import ElementClickInterceptedException \n",
    "import matplotlib.pyplot as plt\n",
    "import seaborn as sns\n",
    "from tqdm import tqdm"
   ]
  },
  {
   "cell_type": "code",
   "execution_count": 3,
   "metadata": {},
   "outputs": [],
   "source": [
    "#Định nghĩa driver của webdriver\n",
    "browser = webdriver.Chrome(executable_path='./chromedriver_ubuntu') \n",
    "browser.maximize_window()"
   ]
  },
  {
   "cell_type": "markdown",
   "metadata": {},
   "source": [
    "# Thu thập dữ liệu"
   ]
  },
  {
   "cell_type": "code",
   "execution_count": 15,
   "metadata": {},
   "outputs": [],
   "source": [
    "#Khai báo đường dẫn đến trang web gốc\n",
    "root_url = \"https://soundcloud.com/discover\"\n",
    "browser.get(root_url)\n",
    "# Tắt cửa sổ quảng cáo nếu có bằng cách ấn phím Esc \n",
    "browser.find_element_by_tag_name('html').send_keys(Keys.ESCAPE)\n",
    "search_textbox = browser.find_element_by_css_selector('.headerSearch__input')\n",
    "search_textbox.send_keys('edm')\n",
    "search_textbox.submit()\n",
    "browser.find_element_by_tag_name('html').send_keys(Keys.ESCAPE)"
   ]
  },
  {
   "cell_type": "markdown",
   "metadata": {},
   "source": [
    "Có thể thấy dữ liệu về chủ đề nhạc EDM rất đa dạng, nhưng em nhận thấy nhưng comments của User trong các tracks chủ yếu là spam comments. Vì vậy em chỉ lấy những Users nào có upload những Track hoặc Playlist lên Soundcloud"
   ]
  },
  {
   "cell_type": "code",
   "execution_count": 58,
   "metadata": {},
   "outputs": [],
   "source": [
    "#Thu thập thông tin của các playlist\n",
    "TIME_SLEEP_FOR_WAITING = 1.5\n",
    "class BaseClass:\n",
    "    def get_text_from_css_selector(self,selector):\n",
    "        element = browser.find_element_by_css_selector(selector)\n",
    "        return element.text if element else ''\n",
    "    def get_attribute_from_css_selector(self, selector, attr):\n",
    "        element = browser.find_element_by_css_selector(selector)\n",
    "        return element.get_attribute(attr) if element else ''\n",
    "    def add_new_value(self, url):\n",
    "        pass\n",
    "    def get_dict(self):\n",
    "        pass\n",
    "class Playlist(BaseClass):\n",
    "    def __init__(self):\n",
    "        self.title = []\n",
    "        self.name_of_user_owner = []\n",
    "        self.link_of_user_owner = []\n",
    "        self.uploaded_time = []\n",
    "        self.number_of_tracks = []\n",
    "        self.duration_of_all_tracks = []\n",
    "        self.number_of_likes = []\n",
    "\n",
    "    def add_new_value(self, url):\n",
    "        browser.get(url)\n",
    "        #We need to sleep until page has loaded\n",
    "        time.sleep(TIME_SLEEP_FOR_WAITING)\n",
    "        title = self.get_text_from_css_selector('span.soundTitle__title span')\n",
    "        #title = self.get_attribute_from_css_selector('span.soundTitle__title span', 'text')\n",
    "        user_owner = self.get_text_from_css_selector('a.soundTitle__username')\n",
    "        user_owner_link = self.get_attribute_from_css_selector('a.soundTitle__username','href')\n",
    "        uploaded_time\\\n",
    "        = self.get_attribute_from_css_selector('.fullHero__uploadTime time','title')\n",
    "\n",
    "        number_of_tracks\\\n",
    "        = self.get_attribute_from_css_selector('.genericTrackCount__title','innerHTML')\n",
    "\n",
    "        duration_of_all_tracks\\\n",
    "        = self.get_attribute_from_css_selector('div.genericTrackCount__duration','innerHTML')\n",
    "\n",
    "        number_of_likes\\\n",
    "        = self.get_attribute_from_css_selector('ul.soundStats > li:first-child','title')\n",
    "        if number_of_likes:\n",
    "            number_of_likes = number_of_likes.rsplit(' ')[0]\n",
    "        \n",
    "        self.title.append(title)\n",
    "        self.name_of_user_owner.append(user_owner)\n",
    "        self.link_of_user_owner.append(user_owner_link)\n",
    "        self.uploaded_time.append(uploaded_time)\n",
    "        self.number_of_tracks.append(number_of_tracks)\n",
    "        self.duration_of_all_tracks.append(duration_of_all_tracks)\n",
    "        self.number_of_likes.append(number_of_likes)\n",
    "    \n",
    "    def get_track_list(self, url):\n",
    "        browser.get(url)\n",
    "        time.sleep(TIME_SLEEP_FOR_WAITING)\n",
    "        number_of_tracks\\\n",
    "        = self.get_attribute_from_css_selector('.genericTrackCount__title','innerHTML')\n",
    "        SCROLL_PAUSE_TIME = 0.1\n",
    "        number_of_tracks = int(number_of_tracks)\n",
    "        html_element = browser.find_element_by_tag_name('html')\n",
    "        for i in tqdm(range(number_of_tracks)):\n",
    "            html_element.send_keys(Keys.PAGE_DOWN)\n",
    "            time.sleep(SCROLL_PAUSE_TIME)\n",
    "\n",
    "        elements = browser.find_elements_by_css_selector(\\\n",
    "        '.trackItem__content a.trackItem__trackTitle')\n",
    "        \n",
    "        track_list_links = []\n",
    "        for element in elements:\n",
    "            track_list_links.append(element.get_attribute('href'))\n",
    "        return track_list_links\n",
    "    def get_user_owner(self, url):\n",
    "        browser.get(url)\n",
    "        time.sleep(TIME_SLEEP_FOR_WAITING)\n",
    "        return self.get_attribute_from_css_selector(\\\n",
    "        'a.soundTitle__username','href')\n",
    "\n",
    "    def get_dict(self):\n",
    "        return {'title': self.title, 'name_of_user_owner': self.name_of_user_owner,\\\n",
    "        'link_of_user_owner': self.link_of_user_owner, 'uploaded_time': self.uploaded_time,\\\n",
    "        'number_of_tracks': self.number_of_tracks, 'duration_of_all_tracks':\\\n",
    "        self.duration_of_all_tracks, 'number_of_likes':self.number_of_likes}"
   ]
  },
  {
   "cell_type": "code",
   "execution_count": 59,
   "metadata": {},
   "outputs": [],
   "source": [
    "#Thu thập thông tin của các playlist\n",
    "#for playlist_link in tqdm(playlist_links):\n",
    "class User(BaseClass):\n",
    "    def __init__(self):\n",
    "        self.number_of_reposts = []\n",
    "        self.number_of_playlists = []\n",
    "        self.number_of_albums = []\n",
    "        \n",
    "        self.name = []\n",
    "        self.support_name = []\n",
    "        self.location = []\n",
    "        self.number_of_followers = []\n",
    "        self.number_of_following = []\n",
    "        self.number_of_tracks = []\n",
    "        self.number_of_likes = []\n",
    "        self.number_of_commets = []\n",
    "        self.link_of_user_owner = []\n",
    "    \n",
    "    def add_new_value(self, url):\n",
    "        browser.get(url)\n",
    "        #We need to sleep until page has loaded\n",
    "        time.sleep(TIME_SLEEP_FOR_WAITING)\n",
    "        name = self.get_text_from_css_selector('h3.profileHeaderInfo__userName')\n",
    "        \n",
    "        elements = browser.find_elements_by_css_selector('h4.profileHeaderInfo__additional')\n",
    "        \n",
    "        support_name = elements[0].text if len(elements) > 0 else ''\n",
    "        location = elements[1].text if len(elements) > 1 else ''\n",
    "\n",
    "        number_of_followers = self.get_text_from_css_selector(\\\n",
    "        'td.infoStats__stat:nth-child(1) > a > div.infoStats__value')\n",
    "        number_of_following = self.get_text_from_css_selector(\\\n",
    "        'td.infoStats__stat:nth-child(2) > a > div.infoStats__value')\n",
    "        number_of_tracks = self.get_text_from_css_selector(\\\n",
    "        'td.infoStats__stat:nth-child(3) > a > div.infoStats__value')\n",
    "        list_elements_needed_filter = browser.find_elements_by_css_selector(\\\n",
    "        '.sidebarHeader__actualTitle')\n",
    "        \n",
    "        number_of_likes = ''\n",
    "        number_of_commets = ''\n",
    "        \n",
    "        for element in list_elements_needed_filter:\n",
    "            tmp = element.text\n",
    "            if not tmp:\n",
    "                continue\n",
    "            tmp.strip()\n",
    "            tail_str = tmp.split(' ')[1]\n",
    "            if tail_str == 'likes':\n",
    "                number_of_likes = tmp.split(' ')[0]\n",
    "            elif tail_str == 'comments':\n",
    "                number_of_commets = tmp.split(' ')[0]\n",
    "        self.name.append(name)\n",
    "        self.support_name.append(support_name)\n",
    "        self.location.append(location) \n",
    "        self.number_of_followers.append(number_of_followers)\n",
    "        self.number_of_following.append(number_of_following)\n",
    "        self.number_of_tracks.append(number_of_tracks)\n",
    "        self.number_of_likes.append(number_of_likes)\n",
    "        self.number_of_commets.append(number_of_commets)\n",
    "        self.link_of_user_owner.append(url)\n",
    "    def get_dict(self):\n",
    "        return {'name': self.name,\\\n",
    "        'support_name': self.support_name,\\\n",
    "        'location' : self.location,\\\n",
    "        'number_of_follower': self.number_of_followers,\\\n",
    "        'numbert_of_following': self.number_of_following,\\\n",
    "        'number_of_tracks': self.number_of_tracks,\\\n",
    "        'number_of_likes': self.number_of_likes,\\\n",
    "        'number_of_commets': self.number_of_commets,\\\n",
    "        'link_of_user_owner': self.link_of_user_owner}"
   ]
  },
  {
   "cell_type": "code",
   "execution_count": 60,
   "metadata": {},
   "outputs": [],
   "source": [
    "class Track(BaseClass):\n",
    "    def __init__(self):\n",
    "        self.link_singer_belong = []\n",
    "        self.name_of_track = []\n",
    "        self.link_playlist_belong = []\n",
    "        self.uploaded_time = []\n",
    "        self.number_of_plays = []\n",
    "        self.number_of_likes = []\n",
    "        self.number_of_repost = []\n",
    "        self.number_of_comment = []\n",
    "    \n",
    "    def add_new_value(self, url):\n",
    "        browser.get(url)\n",
    "        time.sleep(TIME_SLEEP_FOR_WAITING)\n",
    "        link_singer_belong = self.get_attribute_from_css_selector(\\\n",
    "        '.soundTitle__usernameHeroContainer a', 'href')\n",
    "        name_of_track = self.get_text_from_css_selector(\\\n",
    "        '.soundTitle__usernameTitleContainer .soundTitle__title span')\n",
    "        link_playlist_belong = self.get_attribute_from_css_selector(\\\n",
    "        'div.fullHero__parentLink a', 'href')\n",
    "        uploaded_time = self.get_attribute_from_css_selector(\\\n",
    "        '.fullHero__uploadTime time', 'title')\n",
    "        \n",
    "        list_elements = browser.find_elements_by_css_selector('.listenEngagement__stats li')\n",
    "        number_of_plays = list_elements[0].get_attribute('title').split(' ')[0]\n",
    "        number_of_likes = list_elements[1].get_attribute('title').split(' ')[0]\n",
    "        number_of_repost = list_elements[2].get_attribute('title').split(' ')[0]\n",
    "        number_of_comment = self.get_text_from_css_selector('.commentsList__actualTitle')\\\n",
    "        .split(' ')[0]\n",
    "        \n",
    "        self.link_singer_belong.append(link_singer_belong)\n",
    "        self.name_of_track.append(name_of_track)\n",
    "        self.link_playlist_belong.append(link_playlist_belong)\n",
    "        self.uploaded_time.append(uploaded_time)\n",
    "        self.number_of_plays.append(number_of_plays)\n",
    "        self.number_of_likes.append(number_of_likes)\n",
    "        self.number_of_repost.append(number_of_repost)\n",
    "        self.number_of_comment.append(number_of_comment)\n",
    "    def get_user_owner(self, url):\n",
    "        browser.get(url)\n",
    "        time.sleep(TIME_SLEEP_FOR_WAITING)\n",
    "        return self.get_attribute_from_css_selector(\\\n",
    "        '.soundTitle__usernameHeroContainer a', 'href')\n",
    "    def get_dict(self):\n",
    "        return {'link_singer_belong': self.link_singer_belong,\\\n",
    "        'name_of_track': self.name_of_track,\\\n",
    "        'link_playlist_belong': self.link_playlist_belong,\\\n",
    "        'uploaded_time': self.uploaded_time,\\\n",
    "        'number_of_plays': self.number_of_plays,\\\n",
    "        'number_of_plays': self.number_of_likes,\\\n",
    "        'number_of_repost': self.number_of_repost,\\\n",
    "        'number_of_comment': self.number_of_comment }\n"
   ]
  },
  {
   "cell_type": "code",
   "execution_count": 61,
   "metadata": {},
   "outputs": [
    {
     "name": "stdout",
     "output_type": "stream",
     "text": [
      "PLAYLIST TEST\n",
      "{'title': ['Edm'], 'name_of_user_owner': ['Courtney Mccann'], 'link_of_user_owner': ['https://soundcloud.com/courtney-mccann'], 'uploaded_time': ['24 June 2016'], 'number_of_tracks': ['469'], 'duration_of_all_tracks': ['1:50:02'], 'number_of_likes': ['2,013']}\n",
      "USER TEST\n",
      "{'name': ['Vintage Culture Pro Unlimited'], 'support_name': ['LukasRuiz'], 'location': [''], 'number_of_follower': ['576K'], 'numbert_of_following': ['367'], 'number_of_tracks': ['233'], 'number_of_likes': ['369'], 'number_of_commets': ['3,295'], 'link_of_user_owner': ['https://soundcloud.com/vintageculturemusic']}\n",
      "TRACK TEST\n",
      "{'link_singer_belong': ['https://soundcloud.com/dackjaniels'], 'name_of_track': ['Dack Janiels- Trees'], 'link_playlist_belong': ['https://soundcloud.com/courtney-mccann/sets/edm'], 'uploaded_time': ['28 March 2016'], 'number_of_plays': ['3,035'], 'number_of_repost': ['558'], 'number_of_comment': ['57']}\n"
     ]
    }
   ],
   "source": [
    "#Test declaration\n",
    "EXAMPLE_PLAYLIST_LINK = 'https://soundcloud.com/courtney-mccann/sets/edm'\n",
    "EXAMPLE_USER_LINK = 'https://soundcloud.com/vintageculturemusic'\n",
    "EXAMPLE_TRACK_LINK = 'https://soundcloud.com/dackjaniels/trees?in=courtney-mccann/sets/edm'\n",
    "\n",
    "playlist = Playlist()\n",
    "playlist.add_new_value(EXAMPLE_PLAYLIST_LINK)\n",
    "print('PLAYLIST TEST')\n",
    "print(playlist.get_dict())\n",
    "\n",
    "instance_user = User()\n",
    "instance_user.add_new_value(EXAMPLE_USER_LINK)\n",
    "print('USER TEST')\n",
    "print(instance_user.get_dict())\n",
    "\n",
    "instance_user = Track()\n",
    "instance_user.add_new_value(EXAMPLE_TRACK_LINK)\n",
    "print('TRACK TEST')\n",
    "print(instance_user.get_dict())"
   ]
  },
  {
   "cell_type": "code",
   "execution_count": 63,
   "metadata": {},
   "outputs": [
    {
     "name": "stderr",
     "output_type": "stream",
     "text": [
      "\r",
      "  0%|          | 0/1 [00:00<?, ?it/s]"
     ]
    },
    {
     "name": "stdout",
     "output_type": "stream",
     "text": [
      "https://soundcloud.com/digitalstreams\n"
     ]
    },
    {
     "name": "stderr",
     "output_type": "stream",
     "text": [
      "\n",
      "  0%|          | 0/30 [00:00<?, ?it/s]\u001b[A\n",
      "  3%|▎         | 1/30 [00:00<00:04,  6.68it/s]\u001b[A\n",
      "  7%|▋         | 2/30 [00:00<00:04,  6.60it/s]\u001b[A\n",
      " 10%|█         | 3/30 [00:00<00:04,  6.69it/s]\u001b[A\n",
      " 13%|█▎        | 4/30 [00:00<00:03,  6.57it/s]\u001b[A\n",
      " 17%|█▋        | 5/30 [00:00<00:03,  6.41it/s]\u001b[A\n",
      " 20%|██        | 6/30 [00:00<00:03,  6.87it/s]\u001b[A\n",
      " 23%|██▎       | 7/30 [00:01<00:03,  6.79it/s]\u001b[A\n",
      " 27%|██▋       | 8/30 [00:01<00:03,  6.65it/s]\u001b[A\n",
      " 30%|███       | 9/30 [00:01<00:03,  6.33it/s]\u001b[A\n",
      " 33%|███▎      | 10/30 [00:01<00:03,  6.38it/s]\u001b[A\n",
      " 37%|███▋      | 11/30 [00:01<00:03,  6.33it/s]\u001b[A\n",
      " 40%|████      | 12/30 [00:01<00:02,  6.22it/s]\u001b[A\n",
      " 43%|████▎     | 13/30 [00:02<00:02,  6.20it/s]\u001b[A\n",
      " 47%|████▋     | 14/30 [00:02<00:02,  6.39it/s]\u001b[A\n",
      " 50%|█████     | 15/30 [00:02<00:02,  6.32it/s]\u001b[A\n",
      " 53%|█████▎    | 16/30 [00:02<00:02,  6.32it/s]\u001b[A\n",
      " 57%|█████▋    | 17/30 [00:02<00:02,  6.29it/s]\u001b[A\n",
      " 60%|██████    | 18/30 [00:02<00:01,  6.24it/s]\u001b[A\n",
      " 63%|██████▎   | 19/30 [00:02<00:01,  6.27it/s]\u001b[A\n",
      " 67%|██████▋   | 20/30 [00:03<00:01,  6.26it/s]\u001b[A\n",
      " 70%|███████   | 21/30 [00:03<00:01,  6.25it/s]\u001b[A\n",
      " 73%|███████▎  | 22/30 [00:03<00:01,  6.23it/s]\u001b[A\n",
      " 77%|███████▋  | 23/30 [00:03<00:01,  6.19it/s]\u001b[A\n",
      " 80%|████████  | 24/30 [00:03<00:00,  6.10it/s]\u001b[A\n",
      " 83%|████████▎ | 25/30 [00:03<00:00,  6.15it/s]\u001b[A\n",
      " 87%|████████▋ | 26/30 [00:04<00:00,  6.14it/s]\u001b[A\n",
      " 90%|█████████ | 27/30 [00:04<00:00,  6.21it/s]\u001b[A\n",
      " 93%|█████████▎| 28/30 [00:04<00:00,  6.23it/s]\u001b[A\n",
      " 97%|█████████▋| 29/30 [00:04<00:00,  6.19it/s]\u001b[A\n",
      "100%|██████████| 30/30 [00:04<00:00,  6.31it/s]\u001b[A\n",
      "\n",
      "  0%|          | 0/30 [00:00<?, ?it/s]\u001b[A"
     ]
    },
    {
     "name": "stdout",
     "output_type": "stream",
     "text": [
      "https://soundcloud.com/solomun\n"
     ]
    },
    {
     "name": "stderr",
     "output_type": "stream",
     "text": [
      "\n",
      "  3%|▎         | 1/30 [00:07<03:24,  7.04s/it]\u001b[A"
     ]
    },
    {
     "name": "stdout",
     "output_type": "stream",
     "text": [
      "https://soundcloud.com/vintageculturemusic\n"
     ]
    },
    {
     "name": "stderr",
     "output_type": "stream",
     "text": [
      "\n",
      "  7%|▋         | 2/30 [00:15<03:27,  7.40s/it]\u001b[A"
     ]
    },
    {
     "name": "stdout",
     "output_type": "stream",
     "text": [
      "https://soundcloud.com/marckinchen\n"
     ]
    },
    {
     "name": "stderr",
     "output_type": "stream",
     "text": [
      "\n",
      " 10%|█         | 3/30 [00:23<03:25,  7.61s/it]\u001b[A"
     ]
    },
    {
     "name": "stdout",
     "output_type": "stream",
     "text": [
      "https://soundcloud.com/edm_podcast\n"
     ]
    },
    {
     "name": "stderr",
     "output_type": "stream",
     "text": [
      "\n",
      " 13%|█▎        | 4/30 [00:31<03:20,  7.71s/it]\u001b[A"
     ]
    },
    {
     "name": "stdout",
     "output_type": "stream",
     "text": [
      "https://soundcloud.com/deepinkside\n"
     ]
    },
    {
     "name": "stderr",
     "output_type": "stream",
     "text": [
      "\n",
      " 17%|█▋        | 5/30 [00:39<03:13,  7.72s/it]\u001b[A"
     ]
    },
    {
     "name": "stdout",
     "output_type": "stream",
     "text": [
      "https://soundcloud.com/turborecordings\n"
     ]
    },
    {
     "name": "stderr",
     "output_type": "stream",
     "text": [
      "\n",
      " 20%|██        | 6/30 [00:46<03:05,  7.74s/it]\u001b[A"
     ]
    },
    {
     "name": "stdout",
     "output_type": "stream",
     "text": [
      "https://soundcloud.com/elkoo\n"
     ]
    },
    {
     "name": "stderr",
     "output_type": "stream",
     "text": [
      "\n",
      " 23%|██▎       | 7/30 [00:54<02:56,  7.68s/it]\u001b[A"
     ]
    },
    {
     "name": "stdout",
     "output_type": "stream",
     "text": [
      "https://soundcloud.com/turborecordings\n"
     ]
    },
    {
     "name": "stderr",
     "output_type": "stream",
     "text": [
      "\n",
      " 27%|██▋       | 8/30 [01:02<02:52,  7.83s/it]\u001b[A"
     ]
    },
    {
     "name": "stdout",
     "output_type": "stream",
     "text": [
      "https://soundcloud.com/vintageculturemusic\n"
     ]
    },
    {
     "name": "stderr",
     "output_type": "stream",
     "text": [
      "\n",
      " 30%|███       | 9/30 [01:10<02:43,  7.77s/it]\u001b[A"
     ]
    },
    {
     "name": "stdout",
     "output_type": "stream",
     "text": [
      "https://soundcloud.com/destructoamf\n"
     ]
    },
    {
     "name": "stderr",
     "output_type": "stream",
     "text": [
      "\n",
      " 33%|███▎      | 10/30 [01:18<02:37,  7.86s/it]\u001b[A"
     ]
    },
    {
     "name": "stdout",
     "output_type": "stream",
     "text": [
      "https://soundcloud.com/westcoastradiotv\n"
     ]
    },
    {
     "name": "stderr",
     "output_type": "stream",
     "text": [
      "\n",
      " 37%|███▋      | 11/30 [01:25<02:24,  7.59s/it]\u001b[A"
     ]
    },
    {
     "name": "stdout",
     "output_type": "stream",
     "text": [
      "https://soundcloud.com/officialdigitalrecords\n"
     ]
    },
    {
     "name": "stderr",
     "output_type": "stream",
     "text": [
      "\n",
      " 40%|████      | 12/30 [01:33<02:19,  7.75s/it]\u001b[A"
     ]
    },
    {
     "name": "stdout",
     "output_type": "stream",
     "text": [
      "https://soundcloud.com/disciplesldn\n"
     ]
    },
    {
     "name": "stderr",
     "output_type": "stream",
     "text": [
      "\n",
      " 43%|████▎     | 13/30 [01:40<02:10,  7.69s/it]\u001b[A\n",
      " 47%|████▋     | 14/30 [01:43<01:37,  6.12s/it]\u001b[A"
     ]
    },
    {
     "name": "stdout",
     "output_type": "stream",
     "text": [
      "https://soundcloud.com/domdolla\n"
     ]
    },
    {
     "name": "stderr",
     "output_type": "stream",
     "text": [
      "\n",
      " 50%|█████     | 15/30 [01:51<01:42,  6.84s/it]\u001b[A"
     ]
    },
    {
     "name": "stdout",
     "output_type": "stream",
     "text": [
      "https://soundcloud.com/hotnatured\n"
     ]
    },
    {
     "name": "stderr",
     "output_type": "stream",
     "text": [
      "\n",
      " 53%|█████▎    | 16/30 [02:01<01:47,  7.69s/it]\u001b[A"
     ]
    },
    {
     "name": "stdout",
     "output_type": "stream",
     "text": [
      "https://soundcloud.com/theochampion\n"
     ]
    },
    {
     "name": "stderr",
     "output_type": "stream",
     "text": [
      "\n",
      " 57%|█████▋    | 17/30 [02:10<01:43,  7.96s/it]\u001b[A"
     ]
    },
    {
     "name": "stdout",
     "output_type": "stream",
     "text": [
      "https://soundcloud.com/ladsandgents\n"
     ]
    },
    {
     "name": "stderr",
     "output_type": "stream",
     "text": [
      "\n",
      " 60%|██████    | 18/30 [02:17<01:32,  7.69s/it]\u001b[A"
     ]
    },
    {
     "name": "stdout",
     "output_type": "stream",
     "text": [
      "https://soundcloud.com/t-e-e-d\n"
     ]
    },
    {
     "name": "stderr",
     "output_type": "stream",
     "text": [
      "\n",
      " 63%|██████▎   | 19/30 [02:24<01:22,  7.51s/it]\u001b[A"
     ]
    },
    {
     "name": "stdout",
     "output_type": "stream",
     "text": [
      "https://soundcloud.com/3beat\n"
     ]
    },
    {
     "name": "stderr",
     "output_type": "stream",
     "text": [
      "\n",
      " 67%|██████▋   | 20/30 [02:32<01:17,  7.74s/it]\u001b[A"
     ]
    },
    {
     "name": "stdout",
     "output_type": "stream",
     "text": [
      "https://soundcloud.com/calvinharris\n"
     ]
    },
    {
     "name": "stderr",
     "output_type": "stream",
     "text": [
      "\n",
      " 70%|███████   | 21/30 [02:39<01:07,  7.50s/it]\u001b[A"
     ]
    },
    {
     "name": "stdout",
     "output_type": "stream",
     "text": [
      "https://soundcloud.com/iamdenm\n"
     ]
    },
    {
     "name": "stderr",
     "output_type": "stream",
     "text": [
      "\n",
      " 73%|███████▎  | 22/30 [02:47<00:59,  7.50s/it]\u001b[A"
     ]
    },
    {
     "name": "stdout",
     "output_type": "stream",
     "text": [
      "https://soundcloud.com/leyouth\n"
     ]
    },
    {
     "name": "stderr",
     "output_type": "stream",
     "text": [
      "\n",
      " 77%|███████▋  | 23/30 [02:54<00:52,  7.57s/it]\u001b[A"
     ]
    },
    {
     "name": "stdout",
     "output_type": "stream",
     "text": [
      "https://soundcloud.com/themagician\n"
     ]
    },
    {
     "name": "stderr",
     "output_type": "stream",
     "text": [
      "\n",
      " 80%|████████  | 24/30 [03:03<00:47,  7.90s/it]\u001b[A"
     ]
    },
    {
     "name": "stdout",
     "output_type": "stream",
     "text": [
      "https://soundcloud.com/whtkd\n"
     ]
    },
    {
     "name": "stderr",
     "output_type": "stream",
     "text": [
      "\n",
      " 83%|████████▎ | 25/30 [03:13<00:42,  8.51s/it]\u001b[A\n",
      " 87%|████████▋ | 26/30 [03:16<00:27,  6.85s/it]\u001b[A\n",
      " 90%|█████████ | 27/30 [03:18<00:16,  5.51s/it]\u001b[A"
     ]
    },
    {
     "name": "stdout",
     "output_type": "stream",
     "text": [
      "https://soundcloud.com/i_d_magazine\n"
     ]
    },
    {
     "name": "stderr",
     "output_type": "stream",
     "text": [
      "\n",
      " 93%|█████████▎| 28/30 [03:26<00:12,  6.28s/it]\u001b[A"
     ]
    },
    {
     "name": "stdout",
     "output_type": "stream",
     "text": [
      "https://soundcloud.com/paulwoolford\n"
     ]
    },
    {
     "name": "stderr",
     "output_type": "stream",
     "text": [
      "\n",
      " 97%|█████████▋| 29/30 [03:35<00:06,  6.96s/it]\u001b[A"
     ]
    },
    {
     "name": "stdout",
     "output_type": "stream",
     "text": [
      "https://soundcloud.com/weissuk\n"
     ]
    },
    {
     "name": "stderr",
     "output_type": "stream",
     "text": [
      "\n",
      "100%|██████████| 30/30 [03:45<00:00,  7.51s/it]\u001b[A\n",
      "100%|██████████| 1/1 [04:00<00:00, 240.48s/it]"
     ]
    },
    {
     "name": "stdout",
     "output_type": "stream",
     "text": [
      "{'title': ['Best of Deep House (Vol. 02)'], 'name_of_user_owner': ['Westcoast Radio (EDM)'], 'link_of_user_owner': ['https://soundcloud.com/digitalstreams'], 'uploaded_time': ['2 July 2017'], 'number_of_tracks': ['30'], 'duration_of_all_tracks': ['3:05:39'], 'number_of_likes': ['121,151']}\n",
      "{'link_singer_belong': ['https://soundcloud.com/solomun', 'https://soundcloud.com/vintageculturemusic', 'https://soundcloud.com/marckinchen', 'https://soundcloud.com/edm_podcast', 'https://soundcloud.com/deepinkside', 'https://soundcloud.com/turborecordings', 'https://soundcloud.com/elkoo', 'https://soundcloud.com/turborecordings', 'https://soundcloud.com/vintageculturemusic', 'https://soundcloud.com/destructoamf', 'https://soundcloud.com/westcoastradiotv', 'https://soundcloud.com/officialdigitalrecords', 'https://soundcloud.com/disciplesldn', 'https://soundcloud.com/domdolla', 'https://soundcloud.com/hotnatured', 'https://soundcloud.com/theochampion', 'https://soundcloud.com/ladsandgents', 'https://soundcloud.com/t-e-e-d', 'https://soundcloud.com/3beat', 'https://soundcloud.com/calvinharris', 'https://soundcloud.com/iamdenm', 'https://soundcloud.com/leyouth', 'https://soundcloud.com/themagician', 'https://soundcloud.com/whtkd', 'https://soundcloud.com/i_d_magazine', 'https://soundcloud.com/paulwoolford', 'https://soundcloud.com/weissuk'], 'name_of_track': ['Lana Del Rey - West Coast - Solomun Remix', 'Maverick Sabre - Slow Down (Slow Motion & Vintage Culture Remix)', 'Lana Del Rey - Blue Jeans (MK Dark Blue Dub)', 'Quarantine life w/ Destructo - Coronavirus Update', 'Timmy Turner ( Sexroom & Paniek Bootleg)', 'Azari & III - Hungry For The Power', 'Cassius - The Sound Of Violence (Franco Cinelli Version)', 'Duke Dumont - The Giver', 'Zhu - Faded (Vintage Culture & Zerb Remix)', 'Destructo & Misingo - This Is Our Home', 'Black Lives do F*cking Matter!! (Murder on my Mind Podcast)', 'Habibi - The Frenchies (FREE DOWNLOAD)', \"Disciples - They Don't Know\", 'Rufus - Like An Animal (Dom Dolla Remix)', 'Reverse Skydiving (feat. Anabel Englund)', 'Ne - Yo Ft. Juicy J - She Knows (Kayliox Remix)', 'Phonique - Grass Is Greener feat. Antonia Vai (Club Mix)', 'Disclosure - F For You (Totally Enormous Extinct Dinosaurs remix)', 'Philip George - Wish You Were Mine (Radio Edit)', 'Calvin Harris feat Haim - Pray To God (Mike Pickering vs Calvin Harris Hacienda Remix)', 'Lit', 'Le Youth - C O O L (Ben Pearce Remix)', 'Sunlight (feat. Years and Years) (Extended Club Mix)', 'WHTKD - Say To Me', 'Premiere: Lane 8 - Loving You Ft. Lulu James (Moon Boots Remix)', 'Hang Up Your Hang Ups feat Kim English - out now', 'Feel My Needs (Original Mix)'], 'link_playlist_belong': ['https://soundcloud.com/digitalstreams/sets/deephousehits', 'https://soundcloud.com/digitalstreams/sets/deephousehits', 'https://soundcloud.com/digitalstreams/sets/deephousehits', 'https://soundcloud.com/digitalstreams/sets/deephousehits', 'https://soundcloud.com/digitalstreams/sets/deephousehits', 'https://soundcloud.com/digitalstreams/sets/deephousehits', 'https://soundcloud.com/digitalstreams/sets/deephousehits', 'https://soundcloud.com/digitalstreams/sets/deephousehits', 'https://soundcloud.com/digitalstreams/sets/deephousehits', 'https://soundcloud.com/digitalstreams/sets/deephousehits', 'https://soundcloud.com/digitalstreams/sets/deephousehits', 'https://soundcloud.com/digitalstreams/sets/deephousehits', 'https://soundcloud.com/digitalstreams/sets/deephousehits', 'https://soundcloud.com/digitalstreams/sets/deephousehits', 'https://soundcloud.com/digitalstreams/sets/deephousehits', 'https://soundcloud.com/digitalstreams/sets/deephousehits', 'https://soundcloud.com/digitalstreams/sets/deephousehits', 'https://soundcloud.com/digitalstreams/sets/deephousehits', 'https://soundcloud.com/digitalstreams/sets/deephousehits', 'https://soundcloud.com/digitalstreams/sets/deephousehits', 'https://soundcloud.com/digitalstreams/sets/deephousehits', 'https://soundcloud.com/digitalstreams/sets/deephousehits', 'https://soundcloud.com/digitalstreams/sets/deephousehits', 'https://soundcloud.com/digitalstreams/sets/deephousehits', 'https://soundcloud.com/digitalstreams/sets/deephousehits', 'https://soundcloud.com/digitalstreams/sets/deephousehits', 'https://soundcloud.com/digitalstreams/sets/deephousehits'], 'uploaded_time': ['21 May 2014', '3 April 2020', '5 August 2012', '11 July 2020', '20 October 2016', '22 May 2013', '14 August 2011', '5 September 2012', '4 February 2015', '26 June 2020', '24 June 2020', '8 March 2019', '1 September 2014', '10 November 2015', '30 August 2013', '28 November 2014', '23 September 2016', '16 July 2013', '21 October 2014', '11 February 2015', '2 May 2016', '13 May 2013', '15 September 2014', '18 April 2015', '16 July 2015', '13 July 2018', '1 June 2018'], 'number_of_plays': ['203,439', '35,170', '80,683', '1,629', '102,659', '5,229', '26,639', '203,685', '92,911', '9,690', '475', '35,571', '153,887', '28,808', '75,750', '53,962', '15,930', '69,476', '68,549', '145,804', '27,735', '43,278', '95,196', '184,552', '11,780', '10,093', '47,284'], 'number_of_repost': ['11,999', '2,163', '9,919', '66', '6,531', '174', '1,423', '29,243', '6,976', '393', '17', '969', '24,410', '2,786', '13,268', '2,082', '495', '15,054', '5,276', '19,509', '5,313', '8,544', '18,934', '20,326', '2,218', '835', '2,865'], 'number_of_comment': ['5,918', '680', '1,309', '190', '4,618', '129', '496', '2,450', '1,488', '343', '82', '1,260', '819', '305', '1,066', '221', '182', '1,655', '368', '1,074', '382', '588', '937', '1,037', '191', '104', '270']}\n",
      "{'name': ['Westcoast Radio (EDM) Pro Unlimited', 'solomun Pro Unlimited', 'Vintage Culture Pro Unlimited', 'MK (Marc Kinchen)', 'EDM Un-Plugged Podcast', 'Deepink Side', 'Turbo Recordings Pro Unlimited', 'elkoo', 'Turbo Recordings Pro Unlimited', 'Vintage Culture Pro Unlimited', 'Destructo Pro Unlimited', 'Westcoast Radio', 'Digital Records Pro Unlimited', 'DisciplesLDN Pro Unlimited', '⠶ Dom Dolla ⠶ Pro Unlimited', 'Hot Natured', 'Theo Champion', 'Ladies & Gentlemen Berlin', 'Totally Enormous Extinct Dinosaurs Pro Unlimited', '3BEAT Pro Unlimited', 'Calvin Harris Pro Unlimited', 'DENM', 'Le Youth Pro Unlimited', 'The Magician Pro Unlimited', 'WHTKD Pro', 'i-D', 'Paul Woolford Pro', 'Weiss (UK) Pro Unlimited'], 'support_name': ['Curated by DJ MTK', 'Mladen Solomun', 'LukasRuiz', 'Marc Kinchen', 'Westcoast Radio', 'Deepink Side By Deepink, Brazil', 'Turbo Recordings', 'Vilnius, Lithuania', 'Turbo Recordings', 'LukasRuiz', 'Destructo', 'Curated by DJ MTK', 'Soundcloud Distribution', 'Disciples', 'DOM DOLLA - /////', 'Hot Natured', 'Theo Champion', 'Ladies & Gentlemen', 'Totally Enormous Extinct Dinosaurs', 'Liverpool', 'Calvin Harris', 'Huntington Beach, CA', 'Wes James', 'Brussels', 'Germany', 'London', 'Special Request', 'Weiss'], 'location': ['San Diego | L.A. | S.F.', 'Portugal', '', 'Los Angeles, CA, United States', 'San Diego', '', 'Montreal, Canada', '', 'Montreal, Canada', '', 'Earth', 'San Diego, United States', 'San Diego', 'London', 'Melbourne, Australia', 'London/LA', 'Paris, France', 'Berlin, Germany', 'Oxford', '', 'Dumfries, Scotland', '', 'Los Angeles, United States', '', '', '', 'Everywhere', 'London'], 'number_of_follower': ['32.3K', '642K', '576K', '331K', '337', '53.1K', '89.9K', '976', '89.9K', '576K', '125K', '6,601', '8,852', '48.2K', '72.5K', '338K', '714', '3,079', '705K', '42K', '7.16M', '7,899', '79.8K', '250K', '43K', '217K', '71.4K', '48.1K'], 'numbert_of_following': ['1,922', '0', '367', '59', '115', '104', '393', '33', '393', '367', '723', '747', '1,162', '14', '303', '7', '294', '28', '325', '23', '0', '0', '42', '187', '50', '686', '1,576', '63'], 'number_of_tracks': ['31', '83', '233', '170', '15', '85', '1,500', '17', '1,500', '233', '87', '19', '18', '100', '38', '45', '12', '136', '109', '1,525', '311', '27', '93', '209', '5', '1,896', '82', '112'], 'number_of_likes': ['182', '', '369', '98', '15', '259', '210', '376', '210', '369', '243', '199', '93', '18', '1,055', '', '1,676', '10', '34', '87', '', '8', '43', '245', '885', '2', '53', '81'], 'number_of_commets': ['334', '', '3,295', '23', '84', '232', '63', '142', '63', '3,295', '31', '275', '1,791', '4', '501', '11', '26', '', '46', '22', '3', '3', '', '61', '418', '49', '53', '100'], 'link_of_user_owner': ['https://soundcloud.com/digitalstreams', 'https://soundcloud.com/solomun', 'https://soundcloud.com/vintageculturemusic', 'https://soundcloud.com/marckinchen', 'https://soundcloud.com/edm_podcast', 'https://soundcloud.com/deepinkside', 'https://soundcloud.com/turborecordings', 'https://soundcloud.com/elkoo', 'https://soundcloud.com/turborecordings', 'https://soundcloud.com/vintageculturemusic', 'https://soundcloud.com/destructoamf', 'https://soundcloud.com/westcoastradiotv', 'https://soundcloud.com/officialdigitalrecords', 'https://soundcloud.com/disciplesldn', 'https://soundcloud.com/domdolla', 'https://soundcloud.com/hotnatured', 'https://soundcloud.com/theochampion', 'https://soundcloud.com/ladsandgents', 'https://soundcloud.com/t-e-e-d', 'https://soundcloud.com/3beat', 'https://soundcloud.com/calvinharris', 'https://soundcloud.com/iamdenm', 'https://soundcloud.com/leyouth', 'https://soundcloud.com/themagician', 'https://soundcloud.com/whtkd', 'https://soundcloud.com/i_d_magazine', 'https://soundcloud.com/paulwoolford', 'https://soundcloud.com/weissuk']}\n"
     ]
    },
    {
     "name": "stderr",
     "output_type": "stream",
     "text": [
      "\n"
     ]
    }
   ],
   "source": [
    "PATH_TO_PLAYLIST_CSV = './playlist.csv'\n",
    "PATH_TO_USER_CSV = './user.csv'\n",
    "PATH_TO_TRACK_CSV = './track.csv'\n",
    "\n",
    "class Crawler():\n",
    "    def __init__(self):\n",
    "        self.dict_of_playlists = Playlist()\n",
    "        self.dict_of_tracks = Track()\n",
    "        self.dict_of_user = User()\n",
    "        self.list_of_playlist_link = []\n",
    "    def get_list_of_playlist_links(self, url):\n",
    "        #Thu thập danh sách các playlist liên quan đến edm\n",
    "        try:\n",
    "            browser.get(url)\n",
    "            SCROLL_PAUSE_TIME = 0.2\n",
    "            MAX_SCROLLING = 5000\n",
    "            html_element = browser.find_element_by_tag_name('html')\n",
    "            for i in tqdm(range(MAX_SCROLLING)):\n",
    "                html_element.send_keys(Keys.PAGE_DOWN)\n",
    "                time.sleep(SCROLL_PAUSE_TIME)\n",
    "\n",
    "            elements = browser.find_elements_by_css_selector('a.sound__coverArt')\n",
    "            for element in elements:\n",
    "                self.list_of_playlist_link.append(element.get_attribute('href'))\n",
    "            print('Thu thập dữ liệu play plist hoàn thành.')\n",
    "            print(f'Số links playlist thu thập được là: {len(self.list_of_playlist_link)}')\n",
    "            return True\n",
    "        except:\n",
    "            return False\n",
    "    def run(self, url):\n",
    "        self.get_list_of_playlist_links(url)\n",
    "        #self.list_of_playlist_link = ['https://soundcloud.com/digitalstreams/sets/deephousehits']\n",
    "        for playlist_link in tqdm(self.list_of_playlist_link):\n",
    "            self.dict_of_playlists.add_new_value(playlist_link)\n",
    "            user_owner_link = self.dict_of_playlists.get_user_owner(playlist_link)\n",
    "            print(user_owner_link)\n",
    "            self.dict_of_user.add_new_value(user_owner_link)\n",
    "            list_of_all_track = self.dict_of_playlists.get_track_list(playlist_link)\n",
    "            for track_link in tqdm(list_of_all_track):\n",
    "                try:\n",
    "                    self.dict_of_tracks.add_new_value(track_link)\n",
    "                    owner = self.dict_of_tracks.get_user_owner(track_link)\n",
    "                    print(owner)\n",
    "                    self.dict_of_user.add_new_value(owner)\n",
    "                except:\n",
    "                    pass\n",
    "    def print_all(self):\n",
    "        print(self.dict_of_playlists.get_dict())\n",
    "        print(self.dict_of_tracks.get_dict())\n",
    "        print(self.dict_of_user.get_dict())\n",
    "    def export_all_to_csv(self):\n",
    "        playlist_df = pd.DataFrame(self.dict_of_playlists.get_dict())\n",
    "        playlist_df.to_csv(PATH_TO_PLAYLIST_CSV)\n",
    "        \n",
    "        user_df = pd.DataFrame(self.dict_of_user.get_dict())\n",
    "        user_df.to_csv(PATH_TO_USER_CSV)\n",
    "        \n",
    "        track_df = pd.DataFrame(self.dict_of_tracks.get_dict())\n",
    "        track_df.to_csv(PATH_TO_TRACK_CSV)        \n",
    "crawler = Crawler()\n",
    "crawler.run('https://soundcloud.com/search/sets?q=edm')\n",
    "crawler.print_all()"
   ]
  },
  {
   "cell_type": "code",
   "execution_count": 64,
   "metadata": {},
   "outputs": [],
   "source": [
    "crawler.export_all_to_csv()"
   ]
  }
 ],
 "metadata": {
  "kernelspec": {
   "display_name": "Python 3",
   "language": "python",
   "name": "python3"
  },
  "language_info": {
   "codemirror_mode": {
    "name": "ipython",
    "version": 3
   },
   "file_extension": ".py",
   "mimetype": "text/x-python",
   "name": "python",
   "nbconvert_exporter": "python",
   "pygments_lexer": "ipython3",
   "version": "3.6.9"
  }
 },
 "nbformat": 4,
 "nbformat_minor": 4
}
