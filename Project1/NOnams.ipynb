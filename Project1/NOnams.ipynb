{
 "cells": [
  {
   "cell_type": "markdown",
   "metadata": {},
   "source": [
    "# Cài đặt môi trường"
   ]
  },
  {
   "cell_type": "code",
   "execution_count": 1,
   "metadata": {},
   "outputs": [
    {
     "name": "stdout",
     "output_type": "stream",
     "text": [
      "Requirement already satisfied: requests_html in /Users/xuan-cuongle/opt/anaconda3/lib/python3.8/site-packages (0.10.0)\n",
      "Requirement already satisfied: w3lib in /Users/xuan-cuongle/opt/anaconda3/lib/python3.8/site-packages (from requests_html) (1.22.0)\n",
      "Requirement already satisfied: bs4 in /Users/xuan-cuongle/opt/anaconda3/lib/python3.8/site-packages (from requests_html) (0.0.1)\n",
      "Requirement already satisfied: pyquery in /Users/xuan-cuongle/opt/anaconda3/lib/python3.8/site-packages (from requests_html) (1.4.1)\n",
      "Requirement already satisfied: fake-useragent in /Users/xuan-cuongle/opt/anaconda3/lib/python3.8/site-packages (from requests_html) (0.1.11)\n",
      "Requirement already satisfied: pyppeteer>=0.0.14 in /Users/xuan-cuongle/opt/anaconda3/lib/python3.8/site-packages (from requests_html) (0.2.2)\n",
      "Requirement already satisfied: parse in /Users/xuan-cuongle/opt/anaconda3/lib/python3.8/site-packages (from requests_html) (1.18.0)\n",
      "Requirement already satisfied: requests in /Users/xuan-cuongle/opt/anaconda3/lib/python3.8/site-packages (from requests_html) (2.24.0)\n",
      "Requirement already satisfied: six>=1.4.1 in /Users/xuan-cuongle/opt/anaconda3/lib/python3.8/site-packages (from w3lib->requests_html) (1.15.0)\n",
      "Requirement already satisfied: beautifulsoup4 in /Users/xuan-cuongle/opt/anaconda3/lib/python3.8/site-packages (from bs4->requests_html) (4.9.1)\n",
      "Requirement already satisfied: cssselect>0.7.9 in /Users/xuan-cuongle/opt/anaconda3/lib/python3.8/site-packages (from pyquery->requests_html) (1.1.0)\n",
      "Requirement already satisfied: lxml>=2.1 in /Users/xuan-cuongle/opt/anaconda3/lib/python3.8/site-packages (from pyquery->requests_html) (4.5.2)\n",
      "Requirement already satisfied: appdirs<2.0.0,>=1.4.3 in /Users/xuan-cuongle/opt/anaconda3/lib/python3.8/site-packages (from pyppeteer>=0.0.14->requests_html) (1.4.4)\n",
      "Requirement already satisfied: pyee<8.0.0,>=7.0.1 in /Users/xuan-cuongle/opt/anaconda3/lib/python3.8/site-packages (from pyppeteer>=0.0.14->requests_html) (7.0.4)\n",
      "Requirement already satisfied: websockets<9.0,>=8.1 in /Users/xuan-cuongle/opt/anaconda3/lib/python3.8/site-packages (from pyppeteer>=0.0.14->requests_html) (8.1)\n",
      "Requirement already satisfied: urllib3<2.0.0,>=1.25.8 in /Users/xuan-cuongle/opt/anaconda3/lib/python3.8/site-packages (from pyppeteer>=0.0.14->requests_html) (1.25.9)\n",
      "Requirement already satisfied: tqdm<5.0.0,>=4.42.1 in /Users/xuan-cuongle/opt/anaconda3/lib/python3.8/site-packages (from pyppeteer>=0.0.14->requests_html) (4.47.0)\n",
      "Requirement already satisfied: idna<3,>=2.5 in /Users/xuan-cuongle/opt/anaconda3/lib/python3.8/site-packages (from requests->requests_html) (2.10)\n",
      "Requirement already satisfied: chardet<4,>=3.0.2 in /Users/xuan-cuongle/opt/anaconda3/lib/python3.8/site-packages (from requests->requests_html) (3.0.4)\n",
      "Requirement already satisfied: certifi>=2017.4.17 in /Users/xuan-cuongle/opt/anaconda3/lib/python3.8/site-packages (from requests->requests_html) (2020.6.20)\n",
      "Requirement already satisfied: soupsieve>1.2 in /Users/xuan-cuongle/opt/anaconda3/lib/python3.8/site-packages (from beautifulsoup4->bs4->requests_html) (2.0.1)\n",
      "Requirement already satisfied: selenium in /Users/xuan-cuongle/opt/anaconda3/lib/python3.8/site-packages (3.141.0)\n",
      "Requirement already satisfied: urllib3 in /Users/xuan-cuongle/opt/anaconda3/lib/python3.8/site-packages (from selenium) (1.25.9)\n",
      "Requirement already satisfied: webdriver_manager in /Users/xuan-cuongle/opt/anaconda3/lib/python3.8/site-packages (3.2.2)\n",
      "Requirement already satisfied: requests in /Users/xuan-cuongle/opt/anaconda3/lib/python3.8/site-packages (from webdriver_manager) (2.24.0)\n",
      "Requirement already satisfied: configparser in /Users/xuan-cuongle/opt/anaconda3/lib/python3.8/site-packages (from webdriver_manager) (5.0.1)\n",
      "Requirement already satisfied: crayons in /Users/xuan-cuongle/opt/anaconda3/lib/python3.8/site-packages (from webdriver_manager) (0.4.0)\n",
      "Requirement already satisfied: chardet<4,>=3.0.2 in /Users/xuan-cuongle/opt/anaconda3/lib/python3.8/site-packages (from requests->webdriver_manager) (3.0.4)\n",
      "Requirement already satisfied: urllib3!=1.25.0,!=1.25.1,<1.26,>=1.21.1 in /Users/xuan-cuongle/opt/anaconda3/lib/python3.8/site-packages (from requests->webdriver_manager) (1.25.9)\n",
      "Requirement already satisfied: certifi>=2017.4.17 in /Users/xuan-cuongle/opt/anaconda3/lib/python3.8/site-packages (from requests->webdriver_manager) (2020.6.20)\n",
      "Requirement already satisfied: idna<3,>=2.5 in /Users/xuan-cuongle/opt/anaconda3/lib/python3.8/site-packages (from requests->webdriver_manager) (2.10)\n",
      "Requirement already satisfied: colorama in /Users/xuan-cuongle/opt/anaconda3/lib/python3.8/site-packages (from crayons->webdriver_manager) (0.4.3)\n"
     ]
    }
   ],
   "source": [
    "#Chạy các câu command lines cần thiết cho việc cài đặt các thư viện\n",
    "!pip install requests_html \n",
    "!pip install selenium\n",
    "!pip install webdriver_manager"
   ]
  },
  {
   "cell_type": "code",
   "execution_count": 2,
   "metadata": {},
   "outputs": [],
   "source": [
    "#Thêm các thư viện và modules cần thiết\n",
    "from requests_html import HTMLSession\n",
    "import requests \n",
    "import json\n",
    "import time\n",
    "import numpy as np \n",
    "import pandas as pd\n",
    "import datetime as dt\n",
    "import re\n",
    "import selenium\n",
    "from requests_html import HTML\n",
    "from selenium import webdriver\n",
    "from selenium.webdriver.common.keys import Keys\n",
    "from webdriver_manager.chrome import ChromeDriverManager\n",
    "from selenium.common.exceptions import ElementClickInterceptedException \n",
    "import matplotlib.pyplot as plt \n",
    "import seaborn as sns"
   ]
  },
  {
   "cell_type": "code",
   "execution_count": 3,
   "metadata": {},
   "outputs": [],
   "source": [
    "#Định nghĩa driver của webdriver\n",
    "browser = webdriver.Chrome(executable_path='./chromedriver') \n",
    "browser.maximize_window()"
   ]
  },
  {
   "cell_type": "markdown",
   "metadata": {},
   "source": [
    "# Thu thập dữ liệu"
   ]
  },
  {
   "cell_type": "code",
   "execution_count": 30,
   "metadata": {},
   "outputs": [],
   "source": [
    "#Khai báo đường dẫn đến trang web gốc\n",
    "root_url = \"https://soundcloud.com/discover\"\n",
    "browser.get(root_url)\n",
    "# Tắt cửa sổ quảng cáo nếu có bằng cách ấn phím Esc \n",
    "browser.find_element_by_tag_name('html').send_keys(Keys.ESCAPE)\n",
    "search_textbox = browser.find_element_by_css_selector('.headerSearch__input')\n",
    "search_textbox.send_keys('edm')\n",
    "search_textbox.submit()\n",
    "browser.find_element_by_tag_name('html').send_keys(Keys.ESCAPE)"
   ]
  },
  {
   "cell_type": "code",
   "execution_count": 37,
   "metadata": {},
   "outputs": [
    {
     "name": "stdout",
     "output_type": "stream",
     "text": [
      "https://soundcloud.com/courtney-mccann/sets/edm\n",
      "https://soundcloud.com/digitalstreams/sets/deephousehits\n",
      "https://soundcloud.com/digitalstreams/sets/ilovehouse\n",
      "https://soundcloud.com/digitalstreams/sets/chilltrap\n",
      "https://soundcloud.com/digitalstreams/sets/saxxyhouse\n",
      "https://soundcloud.com/cris-ayala-1/sets/edm-1\n",
      "https://soundcloud.com/rebecca-darlin/sets/edm\n",
      "https://soundcloud.com/bieledm/sets/edm\n",
      "https://soundcloud.com/digitalstreams/sets/techno\n",
      "https://soundcloud.com/de_woods/sets/house\n",
      "https://soundcloud.com/user884526172/sets/edm\n",
      "https://soundcloud.com/digitalstreams/sets/newmusic\n",
      "https://soundcloud.com/user-597797232/sets/edm\n",
      "https://soundcloud.com/ing-774029554/sets/edm\n",
      "https://soundcloud.com/first-name-last-name-11/sets/edm\n",
      "https://soundcloud.com/slght/sets/edm\n",
      "https://soundcloud.com/nadesyana/sets/edm\n",
      "https://soundcloud.com/mncarlisle/sets/edm-1\n",
      "https://soundcloud.com/tillyoudrop/sets/edm\n",
      "https://soundcloud.com/brittany-schramm-1/sets/edm\n",
      "https://soundcloud.com/mrfrandisimo/sets/edm\n",
      "https://soundcloud.com/emerson-thorn/sets/edm\n",
      "https://soundcloud.com/user-525729666/sets/edm\n",
      "https://soundcloud.com/ijamcrazy/sets/edm\n",
      "https://soundcloud.com/chanelamber/sets/edm\n",
      "https://soundcloud.com/user-209954573/sets/edm\n",
      "https://soundcloud.com/vincent-dubois-16/sets/edm\n",
      "https://soundcloud.com/brooks-ellis/sets/edm\n",
      "https://soundcloud.com/riku-sugimoto-1/sets/edm\n",
      "https://soundcloud.com/tinle23/sets/edm\n",
      "https://soundcloud.com/user-572609594/sets/edm-1\n",
      "https://soundcloud.com/zspon/sets/edm\n",
      "https://soundcloud.com/relyks-official/sets/edm\n",
      "https://soundcloud.com/gaurav-gianchandani/sets/edm\n",
      "https://soundcloud.com/rizal-aldi-p/sets/edm\n",
      "https://soundcloud.com/emilynn-velasco/sets/edm\n",
      "https://soundcloud.com/soundcloud-the-peak/sets/on-the-up-the-peak-hot-new\n",
      "https://soundcloud.com/pedro-silva-177300125/sets/edm\n",
      "https://soundcloud.com/xr218/sets/edm\n",
      "https://soundcloud.com/soundcloud-the-peak/sets/edm-crossovers\n",
      "https://soundcloud.com/d3ron/sets/edm\n",
      "https://soundcloud.com/gage-hinz/sets/edm\n",
      "https://soundcloud.com/michael-hart-40578978/sets/edm\n",
      "https://soundcloud.com/thomas-gonvers/sets/lectro-house\n",
      "https://soundcloud.com/user108809697/sets/edm\n",
      "https://soundcloud.com/brendan_cunningham/sets/up\n",
      "https://soundcloud.com/jacob-ryne-vallone/sets/edm\n",
      "https://soundcloud.com/veq9di0qrfbu/sets/edm\n",
      "https://soundcloud.com/dennis-lorenzo-1/sets/edm\n",
      "https://soundcloud.com/masonogxo/sets/edm\n",
      "https://soundcloud.com/gia-huy-57/sets/edm\n",
      "https://soundcloud.com/aj-pinto-1/sets/edm\n",
      "https://soundcloud.com/akshay-bakore/sets/edm\n",
      "https://soundcloud.com/user-611042747/sets/edm\n",
      "https://soundcloud.com/recoaod/sets/edm\n",
      "https://soundcloud.com/demetp/sets/edm\n",
      "https://soundcloud.com/mitch-taylor-32/sets/chill-electro\n",
      "https://soundcloud.com/skant542/sets/edm\n",
      "https://soundcloud.com/jake-pecorari/sets/edm\n",
      "https://soundcloud.com/nguy-n-kh-nh-242854448/sets/edm\n",
      "https://soundcloud.com/bevan-austin-jr/sets/edm\n",
      "https://soundcloud.com/kylenguyen0610/sets/edm-5\n",
      "https://soundcloud.com/henry-adame/sets/edm\n",
      "https://soundcloud.com/user-738370338/sets/edm\n",
      "https://soundcloud.com/ericadobeck/sets/edm\n",
      "https://soundcloud.com/kristina-marie-greco/sets/edm\n",
      "https://soundcloud.com/yaniv-hifi/sets/edm\n",
      "https://soundcloud.com/kurtastic/sets/edm-2018\n",
      "https://soundcloud.com/itsmariotorres/sets/edm\n",
      "https://soundcloud.com/luis-gomez-451263887/sets/edm\n",
      "https://soundcloud.com/creeps-jay/sets/edm\n",
      "https://soundcloud.com/user-349585887/sets/edm\n",
      "https://soundcloud.com/mremerica/sets/electro\n",
      "https://soundcloud.com/beau-thomas-264767493/sets/edm\n",
      "https://soundcloud.com/cstillo/sets/edm\n",
      "https://soundcloud.com/diego-vanegas-estrada/sets/edm\n",
      "https://soundcloud.com/paceans/sets/electro-dance\n",
      "https://soundcloud.com/sir-stewart-2/sets/edm\n",
      "https://soundcloud.com/daniel-chung-841752404/sets/edm-1\n",
      "https://soundcloud.com/brianlopez40/sets/edm\n",
      "https://soundcloud.com/enraged-revent-n/sets/edm\n",
      "https://soundcloud.com/austin-swindle-1/sets/edm\n",
      "https://soundcloud.com/evan-aldino/sets/edm-1\n",
      "https://soundcloud.com/kinginman/sets/edm\n",
      "https://soundcloud.com/vishwajeet-bhondve/sets/edm\n",
      "https://soundcloud.com/user-756541824/sets/edm\n",
      "https://soundcloud.com/shane-anderson-64/sets/edm\n",
      "https://soundcloud.com/user-547202174/sets/edm\n",
      "https://soundcloud.com/technologyroduction/sets/edm\n",
      "https://soundcloud.com/quang-huy-773315600/sets/edm\n",
      "https://soundcloud.com/craigsterr-creado/sets/edm\n",
      "https://soundcloud.com/mikee_a/sets/edm-1\n",
      "https://soundcloud.com/alana-cogen/sets/edm\n",
      "https://soundcloud.com/brandon-tyler-lee/sets/edm\n",
      "https://soundcloud.com/user-46651647/sets/edm\n",
      "https://soundcloud.com/jakeilliott/sets/edm\n",
      "https://soundcloud.com/justo-h-yanez-padilla/sets/edm\n",
      "https://soundcloud.com/abishek-th/sets/edm\n",
      "https://soundcloud.com/user726912128/sets/edm\n",
      "https://soundcloud.com/lheathal/sets/edm\n",
      "https://soundcloud.com/tino-basadonna/sets/edm\n",
      "https://soundcloud.com/keenzino/sets/edm\n",
      "https://soundcloud.com/user-735196005/sets/edm\n",
      "https://soundcloud.com/fernando-caban/sets/edm\n",
      "https://soundcloud.com/the-mak/sets/edm\n",
      "https://soundcloud.com/tchan95/sets/edm\n",
      "https://soundcloud.com/marz_239/sets/edm\n",
      "https://soundcloud.com/timestepmusic/sets/edm\n",
      "https://soundcloud.com/mikee_a/sets/edm\n",
      "https://soundcloud.com/dhruv-chawda-818610093/sets/edm\n",
      "https://soundcloud.com/smallsdelle/sets/edm\n",
      "https://soundcloud.com/mark-garwick/sets/edm\n",
      "https://soundcloud.com/lauren-marie-gano/sets/edm\n",
      "https://soundcloud.com/leonardo-cumin-carignano/sets/edm\n",
      "https://soundcloud.com/u5ghg2jdtjop/sets/edm\n",
      "https://soundcloud.com/user-545834128/sets/edm\n",
      "https://soundcloud.com/charlottehague/sets/edm\n",
      "https://soundcloud.com/emmanuel-badillocepeda/sets/edm\n",
      "https://soundcloud.com/jtennier/sets/edm\n",
      "https://soundcloud.com/jorge-salcedo-arroyo/sets/edm\n",
      "https://soundcloud.com/anny1999/sets/edm\n",
      "https://soundcloud.com/user-593966067/sets/edm\n",
      "https://soundcloud.com/ashutosh-singh-79/sets/edm\n",
      "https://soundcloud.com/ahmer-khan-49/sets/edm\n",
      "https://soundcloud.com/rincessiela/sets/edm-1\n",
      "https://soundcloud.com/averagegee/sets/edm\n",
      "https://soundcloud.com/dustin-ulep/sets/edm\n",
      "https://soundcloud.com/to-n-th-ng-857841635/sets/vui\n",
      "https://soundcloud.com/user-612729313/sets/edm\n",
      "https://soundcloud.com/swtg0709/sets/edm\n",
      "https://soundcloud.com/ph-c-ph-m-532127433/sets/edm\n",
      "https://soundcloud.com/user678739717/sets/edm\n",
      "https://soundcloud.com/manhtrung/sets/edm\n",
      "https://soundcloud.com/philslack7/sets/edm\n",
      "https://soundcloud.com/user-366336017/sets/edm\n",
      "https://soundcloud.com/cc_22/sets/edm\n",
      "https://soundcloud.com/devon-sandford/sets/edm\n",
      "https://soundcloud.com/ernesto-enriquez-de-alva/sets/edm\n",
      "https://soundcloud.com/dj-hfache/sets/edm\n",
      "https://soundcloud.com/anton-petrow-618447381/sets/edm\n",
      "https://soundcloud.com/bombon920/sets/edm\n",
      "https://soundcloud.com/trvpeze-1/sets/edm\n",
      "https://soundcloud.com/d_yerel/sets/edm\n",
      "https://soundcloud.com/digitalstreams/sets/clubhits\n",
      "https://soundcloud.com/bryan-snoopy-gleason/sets/edm\n",
      "https://soundcloud.com/user605875592/sets/edm\n",
      "https://soundcloud.com/urpotato/sets/edm\n",
      "https://soundcloud.com/smallsmoker/sets/edm\n",
      "https://soundcloud.com/daniel-chung-841752404/sets/edm\n",
      "https://soundcloud.com/user-327883255/sets/edm\n",
      "https://soundcloud.com/nstfr/sets/edm\n",
      "https://soundcloud.com/david-bui-387633978/sets/edm\n",
      "https://soundcloud.com/david-drax-795801999/sets/edm\n",
      "https://soundcloud.com/tino-basadonna/sets/edm-1\n",
      "https://soundcloud.com/ewshana/sets/relax\n",
      "https://soundcloud.com/quincelq/sets/edm\n",
      "https://soundcloud.com/user250908245/sets/edm\n",
      "https://soundcloud.com/francoargentina/sets/edm\n",
      "https://soundcloud.com/teenah14/sets/edm\n",
      "https://soundcloud.com/pedss/sets/edm\n"
     ]
    }
   ],
   "source": [
    "browser.get('https://soundcloud.com/search/sets?q=edm')\n",
    "\n",
    "SCROLL_PAUSE_TIME = 0.5\n",
    "for i in range(200):\n",
    "    browser.find_element_by_tag_name('html').send_keys(Keys.PAGE_DOWN)\n",
    "    time.sleep(SCROLL_PAUSE_TIME)\n",
    "\n",
    "titles = browser.find_elements_by_css_selector('a.sound__coverArt')\n",
    "\n",
    "print('Thu thập dữ liệu play plist hoàn thành.')\n",
    "for title in titles:\n",
    "    print(title.get_attribute('href'))"
   ]
  },
  {
   "cell_type": "code",
   "execution_count": 38,
   "metadata": {},
   "outputs": [
    {
     "name": "stdout",
     "output_type": "stream",
     "text": [
      "160\n"
     ]
    }
   ],
   "source": [
    "print(len(titles))"
   ]
  },
  {
   "cell_type": "code",
   "execution_count": 13,
   "metadata": {},
   "outputs": [
    {
     "name": "stdout",
     "output_type": "stream",
     "text": [
      "https://soundcloud.com/essily/baskotaya\n",
      "https://soundcloud.com/essily/sor-el-gd3an\n",
      "https://soundcloud.com/trippie-hippie-2/weeeeee\n",
      "https://soundcloud.com/memusicproductions/bx5v6obbxqry\n",
      "https://soundcloud.com/internetmoneyrecords/17-lemonade-ft-don-toliver-gunna-nav-master\n",
      "https://soundcloud.com/essily/2020-hassan-shakosh-wegz-salka\n",
      "https://soundcloud.com/mohamaki/xpw0ymesjavr\n",
      "https://soundcloud.com/iamcardib/wap-feat-megan-thee-stallion\n",
      "https://soundcloud.com/user-164665084/bula-feat-by-svnv\n",
      "https://soundcloud.com/khald-felfel-412454284/tayarat-3enba-x-double-zuksh\n",
      "https://soundcloud.com/qanawatlcd/mohamed-ramadan-gims-ya-habibi-official-music-video\n",
      "https://soundcloud.com/user-186834641-509879271/new-track-1-2020\n",
      "12\n"
     ]
    }
   ],
   "source": [
    "playlists = browser.find_elements_by_css_selector('.playableTile__artworkLink')\n",
    "for playlist in playlists:\n",
    "    print(playlist.get_attribute(\"href\"))\n",
    "print(len(playlists))"
   ]
  },
  {
   "cell_type": "code",
   "execution_count": 14,
   "metadata": {},
   "outputs": [
    {
     "name": "stdout",
     "output_type": "stream",
     "text": [
      "30\n"
     ]
    }
   ],
   "source": [
    "import time\n",
    "browser.get('https://soundcloud.com/yourparadis/sets/jazzhip7c')\n",
    "browser.execute_script(\"window.scrollBy(0,1000)\");\n",
    "time.sleep(1)\n",
    "titles = browser.find_elements_by_css_selector('a.trackItem__trackTitle')\n",
    "#for title in titles:\n",
    "#    print(title.get_attribute('href'))\n",
    "print(len(titles))"
   ]
  },
  {
   "cell_type": "code",
   "execution_count": 27,
   "metadata": {},
   "outputs": [
    {
     "name": "stdout",
     "output_type": "stream",
     "text": [
      "['11212' '1212']\n"
     ]
    }
   ],
   "source": [
    "import numpy as np\n",
    "t = np.array(['11212','1212'])\n",
    "print(t)"
   ]
  },
  {
   "cell_type": "code",
   "execution_count": null,
   "metadata": {},
   "outputs": [],
   "source": []
  }
 ],
 "metadata": {
  "kernelspec": {
   "display_name": "Python 3",
   "language": "python",
   "name": "python3"
  },
  "language_info": {
   "codemirror_mode": {
    "name": "ipython",
    "version": 3
   },
   "file_extension": ".py",
   "mimetype": "text/x-python",
   "name": "python",
   "nbconvert_exporter": "python",
   "pygments_lexer": "ipython3",
   "version": "3.8.3"
  }
 },
 "nbformat": 4,
 "nbformat_minor": 4
}
