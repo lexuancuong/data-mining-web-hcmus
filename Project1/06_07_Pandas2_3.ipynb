{
 "cells": [
  {
   "cell_type": "markdown",
   "metadata": {
    "Collapsed": "false",
    "id": "CjPj5UDuEW5q"
   },
   "source": [
    "# <font color=blue> Đọc dữ liệu từ file csv vào dataframe </font> "
   ]
  },
  {
   "cell_type": "markdown",
   "metadata": {
    "Collapsed": "false",
    "id": "pNkWb-PVEW5s"
   },
   "source": [
    "Dữ liệu: [MovieLens 20M Dataset](https://grouplens.org/datasets/movielens/). Để chạy được các phần code bên dưới, bạn cần download bộ dữ liệu này (file `ml-20m.zip`), giải nén, rồi đặt các file csv vào thư mục chứa notebook. Có tất cả 6 file csv, trong phần demo bên dưới chỉ dùng 2 file.\n",
    "\n",
    "Theo [file mô tả dữ liệu](http://files.grouplens.org/datasets/movielens/ml-20m-README.html):\n",
    ">This dataset (ml-20m) describes 5-star rating and free-text tagging activity from MovieLens, a movie recommendation service. It contains 20000263 ratings and 465564 tag applications across 27278 movies. These data were created by 138493 users between January 09, 1995 and March 31, 2015. This dataset was generated on October 17, 2016.\n",
    ">\n",
    ">Users were selected at random for inclusion. All selected users had rated at least 20 movies. No demographic information is included. Each user is represented by an id, and no other information is provided."
   ]
  },
  {
   "cell_type": "code",
   "execution_count": 1,
   "metadata": {
    "Collapsed": "false",
    "id": "gtrjkYetEW5t"
   },
   "outputs": [],
   "source": [
    "%matplotlib inline\n",
    "# Theo document:\n",
    "# \"This performs the necessary behind-the-scenes setup \n",
    "#  for IPython to work correctly hand in hand with matplotlib\""
   ]
  },
  {
   "cell_type": "code",
   "execution_count": 2,
   "metadata": {
    "Collapsed": "false",
    "id": "R13LCPcMEW5y"
   },
   "outputs": [],
   "source": [
    "import numpy as np\n",
    "import pandas as pd"
   ]
  },
  {
   "cell_type": "code",
   "execution_count": 3,
   "metadata": {
    "Collapsed": "false",
    "id": "0BZEy5z6EW52"
   },
   "outputs": [],
   "source": [
    "# !dir"
   ]
  },
  {
   "cell_type": "code",
   "execution_count": 4,
   "metadata": {
    "Collapsed": "false",
    "colab": {
     "base_uri": "https://localhost:8080/",
     "height": 392
    },
    "id": "t2c4k09xEW6I",
    "outputId": "ba4d5931-c1aa-4427-c584-60e70028ee92",
    "scrolled": true
   },
   "outputs": [
    {
     "ename": "FileNotFoundError",
     "evalue": "ignored",
     "output_type": "error",
     "traceback": [
      "\u001b[0;31m---------------------------------------------------------------------------\u001b[0m",
      "\u001b[0;31mFileNotFoundError\u001b[0m                         Traceback (most recent call last)",
      "\u001b[0;32m<ipython-input-4-d8dec0601f42>\u001b[0m in \u001b[0;36m<module>\u001b[0;34m()\u001b[0m\n\u001b[0;32m----> 1\u001b[0;31m \u001b[0mmovies_df\u001b[0m \u001b[0;34m=\u001b[0m \u001b[0mpd\u001b[0m\u001b[0;34m.\u001b[0m\u001b[0mread_csv\u001b[0m\u001b[0;34m(\u001b[0m\u001b[0;34m\"movies.csv\"\u001b[0m\u001b[0;34m)\u001b[0m\u001b[0;34m\u001b[0m\u001b[0;34m\u001b[0m\u001b[0m\n\u001b[0m\u001b[1;32m      2\u001b[0m \u001b[0mratings_df\u001b[0m \u001b[0;34m=\u001b[0m \u001b[0mpd\u001b[0m\u001b[0;34m.\u001b[0m\u001b[0mread_csv\u001b[0m\u001b[0;34m(\u001b[0m\u001b[0;34m\"ratings.csv\"\u001b[0m\u001b[0;34m)\u001b[0m\u001b[0;34m\u001b[0m\u001b[0;34m\u001b[0m\u001b[0m\n",
      "\u001b[0;32m/usr/local/lib/python3.6/dist-packages/pandas/io/parsers.py\u001b[0m in \u001b[0;36mread_csv\u001b[0;34m(filepath_or_buffer, sep, delimiter, header, names, index_col, usecols, squeeze, prefix, mangle_dupe_cols, dtype, engine, converters, true_values, false_values, skipinitialspace, skiprows, skipfooter, nrows, na_values, keep_default_na, na_filter, verbose, skip_blank_lines, parse_dates, infer_datetime_format, keep_date_col, date_parser, dayfirst, cache_dates, iterator, chunksize, compression, thousands, decimal, lineterminator, quotechar, quoting, doublequote, escapechar, comment, encoding, dialect, error_bad_lines, warn_bad_lines, delim_whitespace, low_memory, memory_map, float_precision)\u001b[0m\n\u001b[1;32m    686\u001b[0m     )\n\u001b[1;32m    687\u001b[0m \u001b[0;34m\u001b[0m\u001b[0m\n\u001b[0;32m--> 688\u001b[0;31m     \u001b[0;32mreturn\u001b[0m \u001b[0m_read\u001b[0m\u001b[0;34m(\u001b[0m\u001b[0mfilepath_or_buffer\u001b[0m\u001b[0;34m,\u001b[0m \u001b[0mkwds\u001b[0m\u001b[0;34m)\u001b[0m\u001b[0;34m\u001b[0m\u001b[0;34m\u001b[0m\u001b[0m\n\u001b[0m\u001b[1;32m    689\u001b[0m \u001b[0;34m\u001b[0m\u001b[0m\n\u001b[1;32m    690\u001b[0m \u001b[0;34m\u001b[0m\u001b[0m\n",
      "\u001b[0;32m/usr/local/lib/python3.6/dist-packages/pandas/io/parsers.py\u001b[0m in \u001b[0;36m_read\u001b[0;34m(filepath_or_buffer, kwds)\u001b[0m\n\u001b[1;32m    452\u001b[0m \u001b[0;34m\u001b[0m\u001b[0m\n\u001b[1;32m    453\u001b[0m     \u001b[0;31m# Create the parser.\u001b[0m\u001b[0;34m\u001b[0m\u001b[0;34m\u001b[0m\u001b[0;34m\u001b[0m\u001b[0m\n\u001b[0;32m--> 454\u001b[0;31m     \u001b[0mparser\u001b[0m \u001b[0;34m=\u001b[0m \u001b[0mTextFileReader\u001b[0m\u001b[0;34m(\u001b[0m\u001b[0mfp_or_buf\u001b[0m\u001b[0;34m,\u001b[0m \u001b[0;34m**\u001b[0m\u001b[0mkwds\u001b[0m\u001b[0;34m)\u001b[0m\u001b[0;34m\u001b[0m\u001b[0;34m\u001b[0m\u001b[0m\n\u001b[0m\u001b[1;32m    455\u001b[0m \u001b[0;34m\u001b[0m\u001b[0m\n\u001b[1;32m    456\u001b[0m     \u001b[0;32mif\u001b[0m \u001b[0mchunksize\u001b[0m \u001b[0;32mor\u001b[0m \u001b[0miterator\u001b[0m\u001b[0;34m:\u001b[0m\u001b[0;34m\u001b[0m\u001b[0;34m\u001b[0m\u001b[0m\n",
      "\u001b[0;32m/usr/local/lib/python3.6/dist-packages/pandas/io/parsers.py\u001b[0m in \u001b[0;36m__init__\u001b[0;34m(self, f, engine, **kwds)\u001b[0m\n\u001b[1;32m    946\u001b[0m             \u001b[0mself\u001b[0m\u001b[0;34m.\u001b[0m\u001b[0moptions\u001b[0m\u001b[0;34m[\u001b[0m\u001b[0;34m\"has_index_names\"\u001b[0m\u001b[0;34m]\u001b[0m \u001b[0;34m=\u001b[0m \u001b[0mkwds\u001b[0m\u001b[0;34m[\u001b[0m\u001b[0;34m\"has_index_names\"\u001b[0m\u001b[0;34m]\u001b[0m\u001b[0;34m\u001b[0m\u001b[0;34m\u001b[0m\u001b[0m\n\u001b[1;32m    947\u001b[0m \u001b[0;34m\u001b[0m\u001b[0m\n\u001b[0;32m--> 948\u001b[0;31m         \u001b[0mself\u001b[0m\u001b[0;34m.\u001b[0m\u001b[0m_make_engine\u001b[0m\u001b[0;34m(\u001b[0m\u001b[0mself\u001b[0m\u001b[0;34m.\u001b[0m\u001b[0mengine\u001b[0m\u001b[0;34m)\u001b[0m\u001b[0;34m\u001b[0m\u001b[0;34m\u001b[0m\u001b[0m\n\u001b[0m\u001b[1;32m    949\u001b[0m \u001b[0;34m\u001b[0m\u001b[0m\n\u001b[1;32m    950\u001b[0m     \u001b[0;32mdef\u001b[0m \u001b[0mclose\u001b[0m\u001b[0;34m(\u001b[0m\u001b[0mself\u001b[0m\u001b[0;34m)\u001b[0m\u001b[0;34m:\u001b[0m\u001b[0;34m\u001b[0m\u001b[0;34m\u001b[0m\u001b[0m\n",
      "\u001b[0;32m/usr/local/lib/python3.6/dist-packages/pandas/io/parsers.py\u001b[0m in \u001b[0;36m_make_engine\u001b[0;34m(self, engine)\u001b[0m\n\u001b[1;32m   1178\u001b[0m     \u001b[0;32mdef\u001b[0m \u001b[0m_make_engine\u001b[0m\u001b[0;34m(\u001b[0m\u001b[0mself\u001b[0m\u001b[0;34m,\u001b[0m \u001b[0mengine\u001b[0m\u001b[0;34m=\u001b[0m\u001b[0;34m\"c\"\u001b[0m\u001b[0;34m)\u001b[0m\u001b[0;34m:\u001b[0m\u001b[0;34m\u001b[0m\u001b[0;34m\u001b[0m\u001b[0m\n\u001b[1;32m   1179\u001b[0m         \u001b[0;32mif\u001b[0m \u001b[0mengine\u001b[0m \u001b[0;34m==\u001b[0m \u001b[0;34m\"c\"\u001b[0m\u001b[0;34m:\u001b[0m\u001b[0;34m\u001b[0m\u001b[0;34m\u001b[0m\u001b[0m\n\u001b[0;32m-> 1180\u001b[0;31m             \u001b[0mself\u001b[0m\u001b[0;34m.\u001b[0m\u001b[0m_engine\u001b[0m \u001b[0;34m=\u001b[0m \u001b[0mCParserWrapper\u001b[0m\u001b[0;34m(\u001b[0m\u001b[0mself\u001b[0m\u001b[0;34m.\u001b[0m\u001b[0mf\u001b[0m\u001b[0;34m,\u001b[0m \u001b[0;34m**\u001b[0m\u001b[0mself\u001b[0m\u001b[0;34m.\u001b[0m\u001b[0moptions\u001b[0m\u001b[0;34m)\u001b[0m\u001b[0;34m\u001b[0m\u001b[0;34m\u001b[0m\u001b[0m\n\u001b[0m\u001b[1;32m   1181\u001b[0m         \u001b[0;32melse\u001b[0m\u001b[0;34m:\u001b[0m\u001b[0;34m\u001b[0m\u001b[0;34m\u001b[0m\u001b[0m\n\u001b[1;32m   1182\u001b[0m             \u001b[0;32mif\u001b[0m \u001b[0mengine\u001b[0m \u001b[0;34m==\u001b[0m \u001b[0;34m\"python\"\u001b[0m\u001b[0;34m:\u001b[0m\u001b[0;34m\u001b[0m\u001b[0;34m\u001b[0m\u001b[0m\n",
      "\u001b[0;32m/usr/local/lib/python3.6/dist-packages/pandas/io/parsers.py\u001b[0m in \u001b[0;36m__init__\u001b[0;34m(self, src, **kwds)\u001b[0m\n\u001b[1;32m   2008\u001b[0m         \u001b[0mkwds\u001b[0m\u001b[0;34m[\u001b[0m\u001b[0;34m\"usecols\"\u001b[0m\u001b[0;34m]\u001b[0m \u001b[0;34m=\u001b[0m \u001b[0mself\u001b[0m\u001b[0;34m.\u001b[0m\u001b[0musecols\u001b[0m\u001b[0;34m\u001b[0m\u001b[0;34m\u001b[0m\u001b[0m\n\u001b[1;32m   2009\u001b[0m \u001b[0;34m\u001b[0m\u001b[0m\n\u001b[0;32m-> 2010\u001b[0;31m         \u001b[0mself\u001b[0m\u001b[0;34m.\u001b[0m\u001b[0m_reader\u001b[0m \u001b[0;34m=\u001b[0m \u001b[0mparsers\u001b[0m\u001b[0;34m.\u001b[0m\u001b[0mTextReader\u001b[0m\u001b[0;34m(\u001b[0m\u001b[0msrc\u001b[0m\u001b[0;34m,\u001b[0m \u001b[0;34m**\u001b[0m\u001b[0mkwds\u001b[0m\u001b[0;34m)\u001b[0m\u001b[0;34m\u001b[0m\u001b[0;34m\u001b[0m\u001b[0m\n\u001b[0m\u001b[1;32m   2011\u001b[0m         \u001b[0mself\u001b[0m\u001b[0;34m.\u001b[0m\u001b[0munnamed_cols\u001b[0m \u001b[0;34m=\u001b[0m \u001b[0mself\u001b[0m\u001b[0;34m.\u001b[0m\u001b[0m_reader\u001b[0m\u001b[0;34m.\u001b[0m\u001b[0munnamed_cols\u001b[0m\u001b[0;34m\u001b[0m\u001b[0;34m\u001b[0m\u001b[0m\n\u001b[1;32m   2012\u001b[0m \u001b[0;34m\u001b[0m\u001b[0m\n",
      "\u001b[0;32mpandas/_libs/parsers.pyx\u001b[0m in \u001b[0;36mpandas._libs.parsers.TextReader.__cinit__\u001b[0;34m()\u001b[0m\n",
      "\u001b[0;32mpandas/_libs/parsers.pyx\u001b[0m in \u001b[0;36mpandas._libs.parsers.TextReader._setup_parser_source\u001b[0;34m()\u001b[0m\n",
      "\u001b[0;31mFileNotFoundError\u001b[0m: [Errno 2] No such file or directory: 'movies.csv'"
     ]
    }
   ],
   "source": [
    "movies_df = pd.read_csv(\"movies.csv\")\n",
    "ratings_df = pd.read_csv(\"ratings.csv\")"
   ]
  },
  {
   "cell_type": "markdown",
   "metadata": {
    "Collapsed": "false",
    "id": "dsAsU1aCEW6N",
    "toc-hr-collapsed": false
   },
   "source": [
    "# <font color=blue>Xem dữ liệu ở dataframe</font>"
   ]
  },
  {
   "cell_type": "markdown",
   "metadata": {
    "Collapsed": "false",
    "id": "FN98rn5nEW6N"
   },
   "source": [
    "## df/s.head/tail "
   ]
  },
  {
   "cell_type": "code",
   "execution_count": null,
   "metadata": {
    "Collapsed": "false",
    "id": "eGN0MVbrEW6O",
    "scrolled": true
   },
   "outputs": [],
   "source": [
    "# Xem 10 dòng đầu tiên của movies_df (nếu không truyền vào 10 thì mặc định là 5)\n",
    "movies_df.head(10)"
   ]
  },
  {
   "cell_type": "code",
   "execution_count": null,
   "metadata": {
    "Collapsed": "false",
    "id": "mNeRE1gbEW6S"
   },
   "outputs": [],
   "source": [
    "movies_df.tail()"
   ]
  },
  {
   "cell_type": "code",
   "execution_count": null,
   "metadata": {
    "Collapsed": "false",
    "id": "27dNLF2NEW6V"
   },
   "outputs": [],
   "source": [
    "ratings_df.head()"
   ]
  },
  {
   "cell_type": "markdown",
   "metadata": {
    "Collapsed": "false",
    "id": "0a1PAGacEW6Y"
   },
   "source": [
    "## df.info"
   ]
  },
  {
   "cell_type": "code",
   "execution_count": null,
   "metadata": {
    "Collapsed": "false",
    "id": "OWkaexS3EW6Z"
   },
   "outputs": [],
   "source": [
    "# Mình hay dùng df.head() khi mình cần nhớ lại mặt mũi của df\n",
    "movies_df.head()"
   ]
  },
  {
   "cell_type": "code",
   "execution_count": null,
   "metadata": {
    "Collapsed": "false",
    "id": "eAXzr8DrEW6d"
   },
   "outputs": [],
   "source": [
    "movies_df.info()"
   ]
  },
  {
   "cell_type": "markdown",
   "metadata": {
    "Collapsed": "false",
    "id": "d_EiYy9DEW6g"
   },
   "source": [
    "Kiểu dữ liệu \"object\" trong Pandas là gì?"
   ]
  },
  {
   "cell_type": "markdown",
   "metadata": {
    "Collapsed": "false",
    "id": "utbbx_DHEW6g"
   },
   "source": [
    "Đọc thử [ở đây](https://stackoverflow.com/questions/21018654/strings-in-a-dataframe-but-dtype-is-object)."
   ]
  },
  {
   "cell_type": "code",
   "execution_count": null,
   "metadata": {
    "Collapsed": "false",
    "id": "UFEJsvChEW6h"
   },
   "outputs": [],
   "source": [
    "# Để lấy ra phần dữ liệu (Numpy array) từ dataframe df: df.values\n",
    "# Numpy array này có dtype là gì?\n",
    "movies_df.values"
   ]
  },
  {
   "cell_type": "code",
   "execution_count": null,
   "metadata": {
    "Collapsed": "false",
    "id": "ZC0J4kaDEW6k",
    "scrolled": true
   },
   "outputs": [],
   "source": [
    "ratings_df.info()"
   ]
  },
  {
   "cell_type": "markdown",
   "metadata": {
    "Collapsed": "false",
    "id": "vJ0WsnA2EW6m"
   },
   "source": [
    "Tại sao `df.info` không cho biết thông tin về giá trị thiếu (null)?"
   ]
  },
  {
   "cell_type": "code",
   "execution_count": null,
   "metadata": {
    "Collapsed": "false",
    "id": "ZOT77Ar2EW6m",
    "scrolled": true
   },
   "outputs": [],
   "source": [
    "ratings_df.info(null_counts=True)"
   ]
  },
  {
   "cell_type": "code",
   "execution_count": null,
   "metadata": {
    "Collapsed": "false",
    "id": "ruldKOfEEW6q"
   },
   "outputs": [],
   "source": [
    "# Nếu muốn xem chắc số dòng của movies_df thì làm sao?\n",
    "len(movies_df)"
   ]
  },
  {
   "cell_type": "code",
   "execution_count": null,
   "metadata": {
    "Collapsed": "false",
    "id": "8QyWhqVTEW6u"
   },
   "outputs": [],
   "source": [
    "# Nếu muốn xem chắc số dòng và số cột của movies_df thì làm sao?\n",
    "movies_df.shape"
   ]
  },
  {
   "cell_type": "code",
   "execution_count": null,
   "metadata": {
    "Collapsed": "false",
    "id": "rEJGQh-MEW6x"
   },
   "outputs": [],
   "source": [
    "# Nếu muốn xem chắc tên cột của movies_df thì làm sao?\n",
    "movies_df.columns"
   ]
  },
  {
   "cell_type": "code",
   "execution_count": null,
   "metadata": {
    "Collapsed": "false",
    "id": "lKT-Ml0dEW60"
   },
   "outputs": [],
   "source": [
    "# Nếu muốn xem chắc tên dòng của movies_df thì làm sao?\n",
    "movies_df.index"
   ]
  },
  {
   "cell_type": "code",
   "execution_count": null,
   "metadata": {
    "Collapsed": "false",
    "id": "5LwI3AvkEW62"
   },
   "outputs": [],
   "source": [
    "# Nếu muốn xem chắc kiểu dữ liệu của các cột của movies_df thì làm sao?\n",
    "movies_df.dtypes"
   ]
  },
  {
   "cell_type": "markdown",
   "metadata": {
    "Collapsed": "false",
    "id": "io_lTJIGEW65",
    "toc-hr-collapsed": false
   },
   "source": [
    "# <font color=blue>Truy xuất dữ liệu ở dataframe</font>"
   ]
  },
  {
   "cell_type": "markdown",
   "metadata": {
    "Collapsed": "false",
    "id": "4Rdkty-QEW65"
   },
   "source": [
    "## df.iloc[...]"
   ]
  },
  {
   "cell_type": "markdown",
   "metadata": {
    "Collapsed": "false",
    "id": "Jn8fyiFEEW6-"
   },
   "source": [
    "`df.iloc[r, c]`\n",
    "\n",
    "- `r` có thể là:\n",
    "    - Một chỉ số vị trí (0, 1, 2, ...)\n",
    "    - List/array/series các chỉ số vị trí\n",
    "    - Slicing theo chỉ số vị trí\n",
    "    - List/array các giá trị True/False (hiện tại thì `iloc` không chạy được với series True/False)\n",
    "- `c` tương tự như `r`\n",
    "- Dùng một chỉ số vị trí (một con số) thì kết quả sẽ bị giảm chiều\n",
    "    - Nếu hoặc `r` hoặc `c` là một chỉ số vị trí (một con số) thì kết quả là series\n",
    "    - Nếu cả `r` và `c` đều là một chỉ số vị trí (một con số) thì kết quả là một giá trị"
   ]
  },
  {
   "cell_type": "code",
   "execution_count": null,
   "metadata": {
    "Collapsed": "false",
    "id": "vZtKBYiHEW6-"
   },
   "outputs": [],
   "source": [
    "movies_df.head()"
   ]
  },
  {
   "cell_type": "code",
   "execution_count": null,
   "metadata": {
    "Collapsed": "false",
    "id": "nZAkSt_2EW7C"
   },
   "outputs": [],
   "source": [
    "# Lấy ra phần tử ở dòng có chỉ số vị trí 2 và cột có chỉ số vị trí 1 ở movies_df\n",
    "movies_df.iloc[2, 1]"
   ]
  },
  {
   "cell_type": "code",
   "execution_count": null,
   "metadata": {
    "Collapsed": "false",
    "id": "Hgj3FMUPEW7G"
   },
   "outputs": [],
   "source": [
    "# Lấy ra các phần tử ở dòng có chỉ số vị trí 2 và 4 và cột có chỉ số vị trí 1 và 2 ở movies_df\n",
    "movies_df.iloc[[2, 4], [1, 2]]"
   ]
  },
  {
   "cell_type": "code",
   "execution_count": null,
   "metadata": {
    "Collapsed": "false",
    "id": "2CDZ3IdvEW7J"
   },
   "outputs": [],
   "source": [
    "# Lấy ra các phần tử từ dòng có chỉ số vị trí 2 đến 4 và từ cột có chỉ số vị trí 1 đến 2 ở movies_df\n",
    "movies_df.iloc[2:5, 1:3]"
   ]
  },
  {
   "cell_type": "code",
   "execution_count": null,
   "metadata": {
    "Collapsed": "false",
    "id": "XqxLtCk4EW7L"
   },
   "outputs": [],
   "source": [
    "# Lấy ra dòng ở chỉ số vị trí 2 của movies_df\n",
    "movies_df.iloc[2, :] # Hoặc: movies_df.iloc[2] "
   ]
  },
  {
   "cell_type": "code",
   "execution_count": null,
   "metadata": {
    "Collapsed": "false",
    "id": "1IdtsxAWEW7P"
   },
   "outputs": [],
   "source": [
    "# Lấy ra dòng ở chỉ số vị trí 2 của movies_df và làm sao để kết quả là dataframe\n",
    "movies_df.iloc[[2], :]"
   ]
  },
  {
   "cell_type": "code",
   "execution_count": null,
   "metadata": {
    "Collapsed": "false",
    "id": "rHoDZAZPEW7R"
   },
   "outputs": [],
   "source": [
    "# Lấy ra cột ở chỉ số vị trí 1 của movies_df\n",
    "movies_df.iloc[:, 1]"
   ]
  },
  {
   "cell_type": "code",
   "execution_count": null,
   "metadata": {
    "Collapsed": "false",
    "id": "gQ6w9wAKEW7V"
   },
   "outputs": [],
   "source": [
    "# Lấy ra cột ở chỉ số vị trí 1 của movies_df và làm sao để kết quả là dataframe\n",
    "movies_df.iloc[:, [1]]"
   ]
  },
  {
   "cell_type": "code",
   "execution_count": null,
   "metadata": {
    "Collapsed": "false",
    "id": "LH5DewsOEW7Y"
   },
   "outputs": [],
   "source": [
    "# Lấy ra các dòng của ratings_df mà có rating >= 3 và <= 4\n",
    "ratings_df.iloc[(ratings_df.iloc[:, 2] >= 3).values & (ratings_df.iloc[:, 2] <= 4).values, :]"
   ]
  },
  {
   "cell_type": "markdown",
   "metadata": {
    "Collapsed": "false",
    "id": "QN3BXcNNEW7a"
   },
   "source": [
    "## df.loc[...]"
   ]
  },
  {
   "cell_type": "markdown",
   "metadata": {
    "Collapsed": "false",
    "id": "BSe_Ym2REW7a"
   },
   "source": [
    "`df.loc[r, c]`"
   ]
  },
  {
   "cell_type": "markdown",
   "metadata": {
    "Collapsed": "false",
    "id": "YUOr3S7XEW7a"
   },
   "source": [
    "- `r` có thể là: \n",
    "    - Một tên\n",
    "    - List/array/series các tên\n",
    "    - Slicing theo tên (khác với slicing theo chỉ số vị trí, slicing theo tên bao gồm cả start **và end**)\n",
    "    - List/array/series các giá trị True/False\n",
    "- `c` tương tự như `r`\n",
    "- Dùng một tên thì kết quả sẽ bị giảm chiều\n",
    "    - Nếu hoặc `r` hoặc `c` là một tên thì kết quả là series\n",
    "    - Nếu cả `r` và `c` đều là một tên thì kết quả là một giá trị"
   ]
  },
  {
   "cell_type": "code",
   "execution_count": null,
   "metadata": {
    "Collapsed": "false",
    "id": "pPfh-bwKEW7b"
   },
   "outputs": [],
   "source": [
    "movies_df.head()"
   ]
  },
  {
   "cell_type": "code",
   "execution_count": null,
   "metadata": {
    "Collapsed": "false",
    "id": "TdWMMzg3EW7d"
   },
   "outputs": [],
   "source": [
    "# Lấy ra phần tử ở dòng có tên 2 và cột có tên 'title' ở movies_df\n",
    "movies_df.loc[2, 'title']"
   ]
  },
  {
   "cell_type": "code",
   "execution_count": null,
   "metadata": {
    "Collapsed": "false",
    "id": "mZQAX1YUEW7g"
   },
   "outputs": [],
   "source": [
    "# Lấy ra các phần tử ở dòng có tên 2 và 4 và cột có tên 'title' và 'genres' ở movies_df\n",
    "movies_df.loc[[2, 4], ['title', 'genres']]"
   ]
  },
  {
   "cell_type": "code",
   "execution_count": null,
   "metadata": {
    "Collapsed": "false",
    "id": "viwI_AXeEW7j"
   },
   "outputs": [],
   "source": [
    "# Lấy ra các phần tử từ dòng có tên 2 đến tên 4 và từ cột có tên 'title' đến tên 'genres' ở movies_df\n",
    "movies_df.loc[2:4, 'title':'genres']"
   ]
  },
  {
   "cell_type": "code",
   "execution_count": null,
   "metadata": {
    "Collapsed": "false",
    "id": "Gkonh2KoEW7m"
   },
   "outputs": [],
   "source": [
    "# Lấy ra dòng có tên là 2 của movies_df\n",
    "movies_df.loc[2, :] # Hoặc: movies_df.loc[2]"
   ]
  },
  {
   "cell_type": "code",
   "execution_count": null,
   "metadata": {
    "Collapsed": "false",
    "id": "gbHndpmxEW7o"
   },
   "outputs": [],
   "source": [
    "# Lấy ra dòng có tên là 2 của movies_df và làm sao để kết quả là dataframe\n",
    "movies_df.loc[[2], :]"
   ]
  },
  {
   "cell_type": "code",
   "execution_count": null,
   "metadata": {
    "Collapsed": "false",
    "id": "WzFtT3U3EW7q"
   },
   "outputs": [],
   "source": [
    "# Lấy ra cột có tên là 'title' của movies_df\n",
    "movies_df.loc[:, 'title']"
   ]
  },
  {
   "cell_type": "code",
   "execution_count": null,
   "metadata": {
    "Collapsed": "false",
    "id": "oKuy0ct2EW7s"
   },
   "outputs": [],
   "source": [
    "# Lấy ra cột có tên là 'title' của movies_df và làm sao để kết quả là dataframe\n",
    "movies_df.loc[:, ['title']]"
   ]
  },
  {
   "cell_type": "code",
   "execution_count": null,
   "metadata": {
    "Collapsed": "false",
    "id": "0EWzx7ojEW7x"
   },
   "outputs": [],
   "source": [
    "# Lấy ra các dòng của ratings_df mà có rating >= 3 và <= 4\n",
    "ratings_df.loc[(ratings_df.loc[:, 'rating'] >= 3) & (ratings_df.loc[:, 'rating'] <= 4), :]"
   ]
  },
  {
   "cell_type": "markdown",
   "metadata": {
    "Collapsed": "false",
    "id": "_w9F6aSAEW7z"
   },
   "source": [
    "## df[...]"
   ]
  },
  {
   "cell_type": "markdown",
   "metadata": {
    "Collapsed": "false",
    "id": "Lutyg0CyEW70"
   },
   "source": [
    "- `df[tên hoặc list các tên]` là shortcut của `df.loc[:, tên hoặc list các tên]`\n",
    "- `df[list/array/series các giá trị True/False]` là shortcut của `df.loc[list/array/series các giá trị True/False, :]`\n",
    "- `df[slicing]` là shortcut của `df.iloc[slicing, :]`"
   ]
  },
  {
   "cell_type": "code",
   "execution_count": null,
   "metadata": {
    "Collapsed": "false",
    "id": "PMX3HecHEW70"
   },
   "outputs": [],
   "source": [
    "temp = movies_df['title']\n",
    "temp.head()"
   ]
  },
  {
   "cell_type": "code",
   "execution_count": null,
   "metadata": {
    "Collapsed": "false",
    "id": "NN9OJMc-EW72"
   },
   "outputs": [],
   "source": [
    "temp = ratings_df[ratings_df['rating'] > 4]\n",
    "temp.head()"
   ]
  },
  {
   "cell_type": "code",
   "execution_count": null,
   "metadata": {
    "Collapsed": "false",
    "id": "lUyhib0EEW75"
   },
   "outputs": [],
   "source": [
    "temp = movies_df[2:4]\n",
    "temp"
   ]
  },
  {
   "cell_type": "markdown",
   "metadata": {
    "Collapsed": "false",
    "id": "9keQIg2KEW78",
    "toc-hr-collapsed": false
   },
   "source": [
    "# Tóm tắt dữ liệu ở dataframe"
   ]
  },
  {
   "cell_type": "markdown",
   "metadata": {
    "Collapsed": "false",
    "id": "I7zzqaC-EW78"
   },
   "source": [
    "## df/s.describe"
   ]
  },
  {
   "cell_type": "code",
   "execution_count": null,
   "metadata": {
    "Collapsed": "false",
    "id": "m7fn266SEW78"
   },
   "outputs": [],
   "source": [
    "# Mặc định thì chỉ \"describe\" các cột có giá trị số\n",
    "movies_df.describe() "
   ]
  },
  {
   "cell_type": "code",
   "execution_count": null,
   "metadata": {
    "Collapsed": "false",
    "id": "jC0pwqJ-EW8C"
   },
   "outputs": [],
   "source": [
    "# \"Describe\" các cột có giá trị không phải số\n",
    "movies_df.describe(include=np.object) "
   ]
  },
  {
   "cell_type": "code",
   "execution_count": null,
   "metadata": {
    "Collapsed": "false",
    "id": "7_f1KJrHEW8F"
   },
   "outputs": [],
   "source": [
    "# Để thấy rõ hơn về các cột có giá trị không phải số, ví dụ cột 'genres'\n",
    "movies_df['genres'].value_counts()"
   ]
  },
  {
   "cell_type": "code",
   "execution_count": null,
   "metadata": {
    "Collapsed": "false",
    "id": "l63Fk9gUEW8I"
   },
   "outputs": [],
   "source": [
    "# pd.set_option('display.float_format', lambda x: '%.1f' %x) # Để kết quả dễ nhìn hơn thì uncomment dòng này\n",
    "ratings_df.describe()"
   ]
  },
  {
   "cell_type": "markdown",
   "metadata": {
    "Collapsed": "false",
    "id": "-LSU0RuiEW8L"
   },
   "source": [
    "## df/s.hist"
   ]
  },
  {
   "cell_type": "code",
   "execution_count": null,
   "metadata": {
    "Collapsed": "false",
    "id": "ih5KL66aEW8L"
   },
   "outputs": [],
   "source": [
    "# Nếu gọi .hist() từ df thì sẽ vẽ các histogram cho các cột số của df\n",
    "ratings_df.hist()"
   ]
  },
  {
   "cell_type": "markdown",
   "metadata": {
    "Collapsed": "false",
    "id": "S6LASlmUEW8N"
   },
   "source": [
    "Để hiểu rõ hơn về histogram, dưới đây ta sẽ xem histogram của cột `rating` trong `rating_df`."
   ]
  },
  {
   "cell_type": "code",
   "execution_count": null,
   "metadata": {
    "Collapsed": "false",
    "id": "T2X8JwgeEW8N"
   },
   "outputs": [],
   "source": [
    "# - Nếu tham số bins = [0, 1, 2, 3] thì câu lệnh hist sẽ tạo ra 3 bin:\n",
    "#   [0, 1), [1, 2), [2, 3] (để ý bin cuối bao gồm cả 3)\n",
    "# - Nếu tham số density = False (mặc định) thì chiều cao của cột là số\n",
    "#   lượng phần tử thuộc về bin tương ứng\n",
    "ax = ratings_df['rating'].hist(bins=np.arange(0, 5.1, 0.5), grid=False, \n",
    "                       ec=\"black\", density=False)\n",
    "ax.set_xlabel(\"rating\")\n",
    "ax.set_ylabel(\"num elements\");"
   ]
  },
  {
   "cell_type": "code",
   "execution_count": null,
   "metadata": {
    "Collapsed": "false",
    "id": "DfrS03HJEW8T"
   },
   "outputs": [],
   "source": [
    "# Nếu tham số density = True thì số lượng phần tử thuộc mỗi bin sẽ\n",
    "# được chuẩn hóa về tỉ lệ % (cộng hết các bin lại sẽ bằng 1, 1 nghĩa\n",
    "# là 100%). Lưu ý: tỉ lệ % = diện tích cột (không phải chiều cao cột).\n",
    "# Với ví dụ bên dưới, các cột có độ rộng bằng nhau nên diện tích cột\n",
    "# cũng tỉ lệ với chiều cao cột; nếu các cột có độ rộng không bằng nhau\n",
    "# (histogram cho phép như vậy) thì bạn sẽ cần phải lưu ý.\n",
    "ax = ratings_df['rating'].hist(bins=np.arange(0, 5.1, 0.5), grid=False, \n",
    "                       ec=\"black\", density=True)\n",
    "ax.set_xlabel(\"rating\")\n",
    "ax.set_ylabel(\"density\");"
   ]
  },
  {
   "cell_type": "markdown",
   "metadata": {
    "Collapsed": "false",
    "id": "_ndg3DkzEW8W"
   },
   "source": [
    "Thử tóm tắt điểm môn Khoa Học Dữ Liệu năm trước bằng histogram. "
   ]
  },
  {
   "cell_type": "code",
   "execution_count": null,
   "metadata": {
    "Collapsed": "false",
    "id": "F5Vgfmb8EW8W",
    "scrolled": true
   },
   "outputs": [],
   "source": [
    "# Bạn lấy file \"dsgrades.csv\" ở thùng chứa trên moodle\n",
    "df = pd.read_csv(\"dsgrades.csv\")\n",
    "df.head()"
   ]
  },
  {
   "cell_type": "code",
   "execution_count": null,
   "metadata": {
    "Collapsed": "false",
    "id": "XrWLk2EMEW8Z"
   },
   "outputs": [],
   "source": [
    "ax = df[\"Trung bình\"].hist(bins=np.arange(0, 11.1, 1), grid=False, \n",
    "                       ec=\"black\", density=False)\n",
    "ax.set_xlabel(\"grade\")\n",
    "ax.set_ylabel(\"num students\");"
   ]
  },
  {
   "cell_type": "markdown",
   "metadata": {
    "Collapsed": "false",
    "id": "lF_LU9CxEW8b"
   },
   "source": [
    "Tóm tắt dữ liệu bằng histogram giúp ta thấy dữ liệu rõ ràng hơn nhiều so với chỉ dùng mean:"
   ]
  },
  {
   "cell_type": "code",
   "execution_count": null,
   "metadata": {
    "Collapsed": "false",
    "id": "Prd2HX0XEW8b"
   },
   "outputs": [],
   "source": [
    "df[\"Trung bình\"].mean()"
   ]
  },
  {
   "cell_type": "markdown",
   "metadata": {
    "Collapsed": "false",
    "id": "NWfLiVbsEW8f"
   },
   "source": [
    "Histogram chỉ dùng được cho dữ liệu dạng số. Với dữ liệu không phải dạng số (ví dụ: thể loại phim) thì làm sao để vẽ được biều đồ tương tự?"
   ]
  },
  {
   "cell_type": "markdown",
   "metadata": {
    "Collapsed": "false",
    "id": "xmzhtKlwEW8f"
   },
   "source": [
    "Một cách là dùng `s.value_counts()` để thống kê số lần xuất hiện của các giá trị, rồi vẽ bar chart bằng `.plot.bar()` hoặc `.plot.barh()`."
   ]
  },
  {
   "cell_type": "markdown",
   "metadata": {
    "Collapsed": "true",
    "id": "DjPh9H_SEW8m",
    "toc-hr-collapsed": false
   },
   "source": [
    "# <font color=blue>Xử lý dữ liệu chuỗi ở dataframe</font>"
   ]
  },
  {
   "cell_type": "markdown",
   "metadata": {
    "Collapsed": "true",
    "id": "Fv77v0F4EW8n"
   },
   "source": [
    "## s.str.xử-lý-x "
   ]
  },
  {
   "cell_type": "markdown",
   "metadata": {
    "id": "FfYOR-yREW8o"
   },
   "source": [
    "*Gần đây có movie gì?*"
   ]
  },
  {
   "cell_type": "markdown",
   "metadata": {
    "id": "uPi7dfwlEW8o"
   },
   "source": [
    "Các bước:\n",
    "1. Thêm cột year vào movies_df\n",
    "2. Từ kết quả ở bước trước, sort theo year"
   ]
  },
  {
   "cell_type": "code",
   "execution_count": null,
   "metadata": {
    "id": "DCHOccJAEW8p"
   },
   "outputs": [],
   "source": [
    "# 1. Thêm cột year vào movies_df\n",
    "df = movies_df\n",
    "df = df.assign(year=df.title.str.extract(r'\\((\\d{4})\\)'))\n",
    "movies_with_year_df = df # Lưu lại kết quả vào một tên dễ nhớ vì lúc sau sẽ cần dùng đến kết quả này nhiều lần\n",
    "movies_with_year_df.head()\n",
    "\n",
    "# Nếu bạn nhớ thì khi demo trên lớp, để thêm cột year vào df thì mình không dùng câu lệnh df.assign\n",
    "# mà dùng: df['year'] = df.title.str.extract(r'\\((\\d{4})\\)')\n",
    "# Câu hỏi: df.assign(year=...) khác gì với df['year'] = ..."
   ]
  },
  {
   "cell_type": "code",
   "execution_count": null,
   "metadata": {
    "id": "AeDhjYDsEW80"
   },
   "outputs": [],
   "source": [
    "# Luôn luôn quan sát kết quả một cách cẩn thận\n",
    "movies_with_year_df.info()"
   ]
  },
  {
   "cell_type": "code",
   "execution_count": null,
   "metadata": {
    "id": "6iUJ5tzaEW83"
   },
   "outputs": [],
   "source": [
    "# Có 2 vấn đề ở cột year vừa thêm vào:\n",
    "# Vấn đề 1: Cột year có kiểu dữ liệu là object (ở đây là string) chứ không phải là số\n",
    "# Vấn đề 2: Cột year có giá trị thiếu!"
   ]
  },
  {
   "cell_type": "code",
   "execution_count": null,
   "metadata": {
    "id": "qyR6z_7NEW85"
   },
   "outputs": [],
   "source": [
    "# Vấn đề 1: Cột year có kiểu dữ liệu là object (ở đây là string) chứ không phải là số\n",
    "df = movies_with_year_df\n",
    "df['year'] = df.year.astype('float64') # Không chuyển qua int64 được do có NaN\n",
    "                                       # Lưu ý: câu lệnh này cũng sẽ làm thay đổi kiểu dữ liệu\n",
    "                                       # cột year của movies_with_year_df; đây là điều ta mong \n",
    "                                       # muốn nên không có vấn đề gì cả\n",
    "movies_with_year_df.info()"
   ]
  },
  {
   "cell_type": "code",
   "execution_count": null,
   "metadata": {
    "id": "BxJu43YAEW87"
   },
   "outputs": [],
   "source": [
    "# Vấn đề 2: Cột year có giá trị thiếu!\n",
    "df = movies_with_year_df\n",
    "df[df.year.isnull()]"
   ]
  },
  {
   "cell_type": "markdown",
   "metadata": {
    "Collapsed": "true",
    "id": "AAygK4n8EW9E",
    "toc-hr-collapsed": false
   },
   "source": [
    "# <font color=blue>Xử lý giá trị thiếu ở dataframe</font>"
   ]
  },
  {
   "cell_type": "markdown",
   "metadata": {
    "Collapsed": "true",
    "id": "bgjosVBzEW9F"
   },
   "source": [
    "## df/s.dropna "
   ]
  },
  {
   "cell_type": "code",
   "execution_count": null,
   "metadata": {
    "id": "xsyklm7SEW9F"
   },
   "outputs": [],
   "source": [
    "# Vấn đề 2: Cột year có giá trị thiếu!\n",
    "df = movies_with_year_df\n",
    "df = df.dropna() # Bỏ các dòng có giá trị thiếu (tùy ngữ cảnh mà bạn phải xem xét là có nên bỏ hay không)\n",
    "df.info()"
   ]
  },
  {
   "cell_type": "markdown",
   "metadata": {
    "Collapsed": "true",
    "id": "GfJM8gr0EW9L"
   },
   "source": [
    "## df/s.fillna"
   ]
  },
  {
   "cell_type": "code",
   "execution_count": null,
   "metadata": {
    "id": "-MPCMK6IEW9L"
   },
   "outputs": [],
   "source": [
    "# Vấn đề 2: Cột year có giá trị thiếu!\n",
    "df = movies_with_year_df\n",
    "df = df.fillna(-1) # Một cách khác để xử lý giá trị thiếu là điền bằng một giá trị nào đó\n",
    "                   # Tùy ngữ cảnh mà bạn phải xem xét là có nên dùng cách này không\n",
    "                   # và nếu dùng thì điền giá trị nào\n",
    "df.info()"
   ]
  },
  {
   "cell_type": "markdown",
   "metadata": {
    "id": "uiIslOB1EW9V"
   },
   "source": [
    "Ở trên là giới thiệu 2 cách có thể để xử lý giá trị thiếu.\n",
    "Tạm thời thì ta vẫn để nguyên movies_with_year_df có giá trị thiếu, chứ chưa xử lý gì."
   ]
  },
  {
   "cell_type": "code",
   "execution_count": null,
   "metadata": {
    "id": "QINnBIfREW9V"
   },
   "outputs": [],
   "source": [
    "movies_with_year_df.info()"
   ]
  },
  {
   "cell_type": "markdown",
   "metadata": {
    "Collapsed": "true",
    "id": "4fZyPAyEEW9Y",
    "toc-hr-collapsed": false
   },
   "source": [
    "# <font color=blue>Sắp xếp dữ liệu ở dataframe</font>"
   ]
  },
  {
   "cell_type": "markdown",
   "metadata": {
    "Collapsed": "true",
    "id": "sa9b1R2XEW9Z"
   },
   "source": [
    "## df/s.sort_values"
   ]
  },
  {
   "cell_type": "markdown",
   "metadata": {
    "id": "IpaYpaw9EW9Z"
   },
   "source": [
    "*Gần đây có movie gì?*"
   ]
  },
  {
   "cell_type": "markdown",
   "metadata": {
    "id": "J_jk3g35EW9a"
   },
   "source": [
    "Các bước:\n",
    "1. Thêm cột year vào movies_df\n",
    "2. Từ kết quả ở bước trước, sort theo year"
   ]
  },
  {
   "cell_type": "code",
   "execution_count": null,
   "metadata": {
    "id": "ix0x_WkMEW9a"
   },
   "outputs": [],
   "source": [
    "# 2. Từ kết quả ở bước trước, sort theo year\n",
    "movies_with_year_df.sort_values('year', ascending=False)"
   ]
  },
  {
   "cell_type": "markdown",
   "metadata": {
    "Collapsed": "true",
    "id": "6C8PmrZ2EW9d"
   },
   "source": [
    "## df/s.sort_index"
   ]
  },
  {
   "cell_type": "markdown",
   "metadata": {
    "id": "41rUl-ktEW9f"
   },
   "source": [
    "*Vẽ đồ thị thể hiện sự thay đổi số lượng movie được sản xuất qua các năm.*"
   ]
  },
  {
   "cell_type": "code",
   "execution_count": null,
   "metadata": {
    "id": "bqYhf_HnEW9g"
   },
   "outputs": [],
   "source": [
    "# 1. Từ movies_with_year_df, đếm số lượng movie của mỗi năm\n",
    "df = movies_with_year_df\n",
    "s = df.year.value_counts()\n",
    "# 2. Từ kết quả ở bước trước, vẽ đồ thị dạng line\n",
    "s = s.sort_index() # Trước khi vẽ, cần sort index\n",
    "s.plot.line() "
   ]
  },
  {
   "cell_type": "markdown",
   "metadata": {
    "id": "8t5OJ1f3EW9m"
   },
   "source": [
    "Tại sao ở cuối đồ thị, số lượng movie lại giảm xuống một cách đột ngột? "
   ]
  },
  {
   "cell_type": "markdown",
   "metadata": {
    "id": "ly5YIwg2EW9n"
   },
   "source": [
    "*Vẽ đồ thị thể hiện sự thay đổi số lượng movie thuộc thể loại action được sản xuất qua các năm.*"
   ]
  },
  {
   "cell_type": "code",
   "execution_count": null,
   "metadata": {
    "id": "rnXPPW1BEW9o"
   },
   "outputs": [],
   "source": [
    "# Tương tự như câu trên \n",
    "# nhưng làm trên movies_with_year_df được giới hạn lại là chỉ gồm các movie thuộc thể loại Action\n",
    "df = movies_with_year_df\n",
    "df = df[df.genres.str.contains('Action')]\n",
    "df.head()"
   ]
  },
  {
   "cell_type": "markdown",
   "metadata": {
    "Collapsed": "true",
    "id": "A87a_tyWEW9q",
    "toc-hr-collapsed": false
   },
   "source": [
    "# <font color=blue>Xử lý dữ liệu thời gian ở dataframe</font>"
   ]
  },
  {
   "cell_type": "markdown",
   "metadata": {
    "Collapsed": "true",
    "id": "c98-hlW_EW9r"
   },
   "source": [
    "## pd.to_datetime"
   ]
  },
  {
   "cell_type": "markdown",
   "metadata": {
    "id": "mIZrObHzEW9r"
   },
   "source": [
    "*Vẽ đồ thị thể hiện sự thay đổi số lượng người đánh giá movies qua các năm.*"
   ]
  },
  {
   "cell_type": "code",
   "execution_count": null,
   "metadata": {
    "id": "9bps_AR1EW9r"
   },
   "outputs": [],
   "source": [
    "# 1. Chuyển cột timestamp trong ratings_df sang dạng date time\n",
    "df = ratings_df\n",
    "df = df.assign(timestamp=pd.to_datetime(df.timestamp, unit='s'))\n",
    "df.head()"
   ]
  },
  {
   "cell_type": "code",
   "execution_count": null,
   "metadata": {
    "id": "VYjbBNH7EW9u"
   },
   "outputs": [],
   "source": [
    "df.info()"
   ]
  },
  {
   "cell_type": "markdown",
   "metadata": {
    "Collapsed": "true",
    "id": "dXcNsN7yEW-H"
   },
   "source": [
    "## s.dt.xử-lý-x"
   ]
  },
  {
   "cell_type": "code",
   "execution_count": null,
   "metadata": {
    "id": "lIsa94VZEW-H"
   },
   "outputs": [],
   "source": [
    "# 1. Chuyển cột timestamp trong ratings_df sang dạng date time\n",
    "df = ratings_df\n",
    "df = df.assign(timestamp=pd.to_datetime(df.timestamp, unit='s'))\n",
    "# 2. Từ kết quả ở bước trước, lấy thông tin về year và thêm cột year vào kết quả\n",
    "df = df.assign(year=df.timestamp.dt.year)\n",
    "ratings_with_year_df = df # Lưu lại kết quả vào một tên dễ nhớ vì lúc sau sẽ cần dùng đến kết quả này nhiều lần\n",
    "ratings_with_year_df.head()"
   ]
  },
  {
   "cell_type": "code",
   "execution_count": null,
   "metadata": {
    "id": "wuZbLwdKEW-J"
   },
   "outputs": [],
   "source": [
    "# 3. Từ kết quả ở bước trước, vẽ đồ thị dạng line\n",
    "df = ratings_with_year_df\n",
    "df.year.value_counts().sort_index().plot.line()"
   ]
  },
  {
   "cell_type": "markdown",
   "metadata": {
    "Collapsed": "true",
    "id": "l00Gwz-2EW-O",
    "toc-hr-collapsed": false
   },
   "source": [
    "# <font color=blue>Kết hợp dữ liệu từ nhiều dataframe</font>"
   ]
  },
  {
   "cell_type": "markdown",
   "metadata": {
    "Collapsed": "true",
    "id": "D4TUUS7JEW-P"
   },
   "source": [
    "## df.merge"
   ]
  },
  {
   "cell_type": "markdown",
   "metadata": {
    "id": "D2pQTxzNEW-P"
   },
   "source": [
    "*Cho biết mỗi movie (dùng title để biểu diễn movie) có bao nhiêu người đánh giá và điểm TB là bao nhiêu?*"
   ]
  },
  {
   "cell_type": "code",
   "execution_count": null,
   "metadata": {
    "id": "gT9nThJ7EW-P"
   },
   "outputs": [],
   "source": [
    "# 1. Từ ratings_df, lấy thêm thông tin về title của movie ở movies_df\n",
    "df = ratings_df.merge(movies_df[['movieId', 'title']], on='movieId')\n",
    "df.head()"
   ]
  },
  {
   "cell_type": "markdown",
   "metadata": {
    "Collapsed": "true",
    "id": "wrqDKuUvEW-Z",
    "toc-hr-collapsed": false
   },
   "source": [
    "# <font color=blue>Gom nhóm và tính toán trong mỗi nhóm</font>"
   ]
  },
  {
   "cell_type": "markdown",
   "metadata": {
    "Collapsed": "true",
    "id": "hkRP3CKJEW-Z"
   },
   "source": [
    "## df.groupby(tên-cột hoặc list-tên-cột).tính-toán-x"
   ]
  },
  {
   "cell_type": "code",
   "execution_count": null,
   "metadata": {
    "id": "SmXIQYzcEW-Z"
   },
   "outputs": [],
   "source": [
    "# 1. Từ ratings_df, lấy thêm thông tin về title của movie ở movies_df\n",
    "df = ratings_df.merge(movies_df[['movieId', 'title']], on='movieId')\n",
    "# 2. Từ kết quả ở bước trước, gom nhóm các dòng theo title;\n",
    "#    với mỗi nhóm, tính số lượng người đánh giá và điểm TB\n",
    "df = df.groupby('title')['rating'].agg(['size', 'mean'])\n",
    "df.head()"
   ]
  },
  {
   "cell_type": "markdown",
   "metadata": {
    "Collapsed": "true",
    "id": "Cwku6qmtEW-h",
    "toc-hr-collapsed": false
   },
   "source": [
    "# <font color=blue>Tổ chức lại dữ liệu ở DataFrame</font>"
   ]
  },
  {
   "cell_type": "markdown",
   "metadata": {
    "Collapsed": "true",
    "id": "bcvpEsuPEW-i"
   },
   "source": [
    "## df/s.unstack (và df.stack)"
   ]
  },
  {
   "cell_type": "markdown",
   "metadata": {
    "id": "pn5kLodIEW-i"
   },
   "source": [
    "*Với mỗi năm, movie nào là movie của năm (được nhiều người đánh giá nhất)?*"
   ]
  },
  {
   "cell_type": "code",
   "execution_count": null,
   "metadata": {
    "id": "r3o_R98XEW-j"
   },
   "outputs": [],
   "source": [
    "# 1. Từ ratings_with_year_df, lấy thông tin về title của movie ở movies_df\n",
    "df = ratings_with_year_df.merge(movies_df[['movieId', 'title']])\n",
    "# 2. Từ kết quả ở bước trước, gom nhóm theo year, title; với mỗi nhóm, tính size\n",
    "s = df.groupby(['year', 'title']).size()\n",
    "# 3. Từ kết quả ở bước trước, kéo các giá trị của index title lên thành các cột\n",
    "df = s.unstack('title').fillna(0)\n",
    "# 4. Từ kết quả ở bước trước, tính idxmax của mỗi dòng\n",
    "df.idxmax(axis=1)"
   ]
  }
 ],
 "metadata": {
  "colab": {
   "name": "06_07-Pandas2_3.ipynb",
   "provenance": [],
   "toc_visible": true
  },
  "kernelspec": {
   "display_name": "Python 3",
   "language": "python",
   "name": "python3"
  },
  "language_info": {
   "codemirror_mode": {
    "name": "ipython",
    "version": 3
   },
   "file_extension": ".py",
   "mimetype": "text/x-python",
   "name": "python",
   "nbconvert_exporter": "python",
   "pygments_lexer": "ipython3",
   "version": "3.6.9"
  },
  "toc": {
   "nav_menu": {},
   "number_sections": false,
   "sideBar": true,
   "skip_h1_title": false,
   "title_cell": "Table of Contents",
   "title_sidebar": "Contents",
   "toc_cell": false,
   "toc_position": {
    "height": "calc(100% - 180px)",
    "left": "10px",
    "top": "150px",
    "width": "206.558px"
   },
   "toc_section_display": true,
   "toc_window_display": true
  },
  "toc-autonumbering": true,
  "toc-showmarkdowntxt": false
 },
 "nbformat": 4,
 "nbformat_minor": 4
}
